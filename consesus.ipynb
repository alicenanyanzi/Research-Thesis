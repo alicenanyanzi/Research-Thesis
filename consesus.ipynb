{
 "cells": [
  {
   "cell_type": "code",
   "execution_count": 1,
   "metadata": {
    "collapsed": false
   },
   "outputs": [
    {
     "name": "stderr",
     "output_type": "stream",
     "text": [
      "/usr/lib/python3/dist-packages/matplotlib/collections.py:549: FutureWarning: elementwise comparison failed; returning scalar instead, but in the future will perform elementwise comparison\n",
      "  if self._edgecolors == 'face':\n"
     ]
    }
   ],
   "source": [
    "import matplotlib.pyplot as plt\n",
    "import numpy as np\n",
    "import networkx as nx\n",
    "\n",
    "t0 = 0\n",
    "T  = 50\n",
    "\n",
    "G = nx.Graph()\n",
    "edgelst=[(1,3),(2,3),(3,4),(3,5),(4,6),(5,7),(7,8),(8,9),(5,8),(9,10)]\n",
    "G.add_edges_from(edgelst)\n",
    "nodes = G.nodes()\n",
    "L   = nx.laplacian_matrix(G)\n",
    "u_0 = np.matrix([[0.3],[0.0],[0.8],[0],[0.5],[0.2],[0],[0.0],[0],[0.2]])      #set initial matrix\n",
    "I   = np.identity(len(nodes))\n",
    "e   = 1/6\n",
    "P   = I - (L*e)\n",
    "pos = nx.spring_layout(G)\n",
    "\n",
    "for t in range(t0,T):\n",
    "    u_t = np.dot(P,u_0)\n",
    "    nx.draw_networkx_nodes(G, pos, node_size=[v *10000 for v in u_0], nodelist=nodes)\n",
    "    u_0 = u_t\n",
    "    plt.savefig('image'+ str(t) +'.png')\n",
    "    plt.show()"
   ]
  },
  {
   "cell_type": "code",
   "execution_count": null,
   "metadata": {
    "collapsed": true
   },
   "outputs": [],
   "source": []
  },
  {
   "cell_type": "code",
   "execution_count": 51,
   "metadata": {
    "collapsed": false
   },
   "outputs": [],
   "source": [
    "import matplotlib.pyplot as plt\n",
    "import numpy as np\n",
    "import networkx as nx\n",
    "\n",
    "t0 = 0\n",
    "T  = 10\n",
    "\n",
    "G = nx.Graph()\n",
    "edgelst=[(1,3),(2,3),(3,4),(3,5),(4,6),(5,7),(7,8),(8,9),(5,8),(9,10)]\n",
    "G.add_edges_from(edgelst)\n",
    "nodes = G.nodes()\n",
    "L   = nx.laplacian_matrix(G)\n",
    "u_0 = np.matrix([[0.3],[0.0],[0.8],[0],[0.5],[0.2],[0],[0.0],[0],[0.2]])      #set initial matrix\n",
    "I   = np.identity(len(nodes))\n",
    "e   = 1/6\n",
    "P   = I - (L*e)\n",
    "pos = nx.spring_layout(G)\n",
    "lst = u_0\n",
    "\n",
    "ofile  = open('ttest1.csv', \"w\")\n",
    "mywriter = csv.writer(ofile, delimiter=',', quotechar='\"', quoting=csv.QUOTE_ALL)\n",
    "\n",
    "for t in range(t0,T):\n",
    "    mywriter.writerow(np.array(u_0).reshape(-1,).tolist())\n",
    "    u_t = np.dot(P,u_0)\n",
    "    #lst.append(phi_t)\n",
    "    u_0 = u_t\n",
    "\n",
    "ofile.close()"
   ]
  },
  {
   "cell_type": "code",
   "execution_count": 54,
   "metadata": {
    "collapsed": false
   },
   "outputs": [],
   "source": [
    "import csv\n",
    "\n",
    "f = csv.reader(open('ttest1.csv'))\n",
    "columns = zip(*f)\n",
    "for cols in columns:\n",
    "    plt.plot(range(0,10),cols)\n",
    "plt.show()"
   ]
  },
  {
   "cell_type": "code",
   "execution_count": 41,
   "metadata": {
    "collapsed": false
   },
   "outputs": [
    {
     "data": {
      "text/plain": [
       "[0.16666666999999999, 0.66666667000000002, 0.16666666999999999]"
      ]
     },
     "execution_count": 41,
     "metadata": {},
     "output_type": "execute_result"
    }
   ],
   "source": [
    "import numpy \n",
    "a = numpy.matrix([[ 0.16666667, 0.66666667, 0.16666667]])\n",
    "list(numpy.array(a).reshape(-4,))"
   ]
  },
  {
   "cell_type": "code",
   "execution_count": 5,
   "metadata": {
    "collapsed": false
   },
   "outputs": [],
   "source": [
    "import matplotlib.pyplot as plt\n",
    "import numpy as np\n",
    "import networkx as nx\n",
    "\n",
    "t0 = 0\n",
    "T  = 150\n",
    "\n",
    "\n",
    "G = nx.Graph()\n",
    "edgelst=[(1,3),(2,3),(3,4),(3,5),(4,6),(5,7),(7,8),(8,9),(5,8),(9,10)]\n",
    "G.add_edges_from(edgelst)\n",
    "nodes = G.nodes()\n",
    "L   = nx.laplacian_matrix(G)\n",
    "u_0 = np.matrix([[0.3],[0.0],[0.8],[0],[0.5],[0.2],[0],[0.0],[0],[0.2]])      #set initial matrix\n",
    "I   = np.identity(len(nodes))\n",
    "e   = 1/6\n",
    "P   = I - (L*e)\n",
    "pos = nx.spring_layout(G)\n",
    "\n",
    "f = open('file.txt', 'w')\n",
    "for t in range(t0,T):\n",
    "    \n",
    "    for n in range(0,np.size(u_0)):\n",
    "        f.write(\"%f  \" %(u_0.item(n)))\n",
    "    f.write(\"\\n\")\n",
    "    u_t = np.dot(P,u_0)\n",
    "    u_0 = u_t"
   ]
  },
  {
   "cell_type": "code",
   "execution_count": 73,
   "metadata": {
    "collapsed": false,
    "scrolled": false
   },
   "outputs": [
    {
     "name": "stdout",
     "output_type": "stream",
     "text": [
      "1\n"
     ]
    },
    {
     "ename": "IndexError",
     "evalue": "index 10 is out of bounds for axis 1 with size 10",
     "output_type": "error",
     "traceback": [
      "\u001b[0;31m---------------------------------------------------------------------------\u001b[0m",
      "\u001b[0;31mIndexError\u001b[0m                                Traceback (most recent call last)",
      "\u001b[0;32m<ipython-input-73-a686fee56480>\u001b[0m in \u001b[0;36m<module>\u001b[0;34m()\u001b[0m\n\u001b[1;32m     12\u001b[0m     \u001b[0;32mfor\u001b[0m \u001b[0mkey\u001b[0m\u001b[0;34m,\u001b[0m \u001b[0mval\u001b[0m \u001b[0;32min\u001b[0m \u001b[0mpt\u001b[0m\u001b[0;34m.\u001b[0m\u001b[0mitems\u001b[0m\u001b[0;34m(\u001b[0m\u001b[0;34m)\u001b[0m\u001b[0;34m:\u001b[0m\u001b[0;34m\u001b[0m\u001b[0m\n\u001b[1;32m     13\u001b[0m         \u001b[0;32mif\u001b[0m \u001b[0mval\u001b[0m\u001b[0;34m==\u001b[0m\u001b[0;36m2\u001b[0m\u001b[0;34m:\u001b[0m\u001b[0;34m\u001b[0m\u001b[0m\n\u001b[0;32m---> 14\u001b[0;31m             \u001b[0mm\u001b[0m\u001b[0;34m[\u001b[0m\u001b[0mi\u001b[0m\u001b[0;34m,\u001b[0m\u001b[0mj\u001b[0m\u001b[0;34m]\u001b[0m\u001b[0;34m=\u001b[0m\u001b[0;34m-\u001b[0m\u001b[0;36m1\u001b[0m\u001b[0;34m\u001b[0m\u001b[0m\n\u001b[0m\u001b[1;32m     15\u001b[0m             \u001b[0mc\u001b[0m\u001b[0;34m=\u001b[0m\u001b[0mc\u001b[0m\u001b[0;34m+\u001b[0m\u001b[0;36m1\u001b[0m\u001b[0;34m\u001b[0m\u001b[0m\n\u001b[1;32m     16\u001b[0m         \u001b[0mj\u001b[0m\u001b[0;34m=\u001b[0m\u001b[0mj\u001b[0m\u001b[0;34m+\u001b[0m\u001b[0;36m1\u001b[0m\u001b[0;34m\u001b[0m\u001b[0m\n",
      "\u001b[0;31mIndexError\u001b[0m: index 10 is out of bounds for axis 1 with size 10"
     ]
    }
   ],
   "source": [
    "import numpy as np\n",
    "\n",
    "m = np.zeros((10,10))\n",
    "\n",
    "p=nx.shortest_path_length(G)\n",
    "#print(p)\n",
    "i = 0\n",
    "j = 0\n",
    "\n",
    "for pt in p.values():\n",
    "    c = 0\n",
    "    for key, val in pt.items():\n",
    "        if val==2:\n",
    "            m[i,j]=-1\n",
    "            c=c+1\n",
    "        j=j+1\n",
    "        \n",
    "    m[i,i] = c\n",
    "    if(i<10):\n",
    "        i = i+1\n",
    "        print(i)\n",
    "    else:\n",
    "        break\n",
    "        \n",
    "print(m)"
   ]
  },
  {
   "cell_type": "code",
   "execution_count": 2,
   "metadata": {
    "collapsed": false
   },
   "outputs": [],
   "source": [
    "import csv"
   ]
  },
  {
   "cell_type": "code",
   "execution_count": 11,
   "metadata": {
    "collapsed": false
   },
   "outputs": [],
   "source": [
    "import networkx as nx\n",
    "import numpy as np\n",
    "from scipy.linalg import expm\n",
    "import matplotlib.pyplot as plt\n",
    "from pylab import *\n",
    "\n",
    "\n",
    "G = nx.Graph()\n",
    "edgelst=[(1,3),(2,3),(3,4),(3,5),(4,6),(5,7),(7,8),(8,9),(5,8),(9,10)]\n",
    "G.add_edges_from(edgelst)\n",
    "\n",
    "nodes = G.nodes()\n",
    "a = nx.laplacian_matrix(G).todense()\n",
    "\n",
    "phi_0 =[0.3,0.0,0.8,0,0.5,0.2,0,0.0,0,0.2]\n",
    "lst = [phi_0]\n",
    "d = nx.degree(G)\n",
    "pos=nx.spring_layout(G)\n",
    "\n",
    "#lst, = plot()\n",
    "\n",
    "for t in range(1,160):\n",
    "    phi_t = np.dot(phi_0, expm(-a*t*0.5))\n",
    "    lst.append(phi_t)\n",
    "    #nx.draw_networkx_nodes(G,pos,nodelist=d.keys(),node_size=[v * 10000 for v in phi_0])\n",
    "    #phi_0 = phi_t\n",
    "    #plt.show()\n",
    "    #print(phi_t)\n",
    "    \n",
    "#for list in lst:\n",
    "    #plt.plot(range(1,11),list)\n",
    "#plt.show()"
   ]
  },
  {
   "cell_type": "code",
   "execution_count": 57,
   "metadata": {
    "collapsed": false
   },
   "outputs": [],
   "source": [
    "import csv\n",
    "import networkx as nx\n",
    "import numpy as np\n",
    "from scipy.linalg import expm\n",
    "import matplotlib.pyplot as plt\n",
    "from pylab import *\n",
    "\n",
    "n= 100\n",
    "G = nx.barabasi_albert_graph(n, 2, seed=None)\n",
    "phi_array = np.random.rand(n)\n",
    "phi_0 = phi_array.tolist()\n",
    "a = nx.laplacian_matrix(G).todense()\n",
    "lst = [phi_0]\n",
    "\n",
    "f = open('file2.csv', 'w')\n",
    "mywriter = csv.writer(f, delimiter=',', quotechar='\"', quoting=csv.QUOTE_ALL)\n",
    "\n",
    "for t in range(1,5):\n",
    "    mywriter.writerow(np.array(phi_0).reshape(-1,).tolist())\n",
    "    phi_t = np.dot(phi_0, expm(-a*t*0.05))\n",
    "    #lst.append(phi_t)\n",
    "    phi_0 = phi_t\n",
    "f.close()\n",
    "\n",
    "f = csv.reader(open('file2.csv'))\n",
    "columns = zip(*f)\n",
    "for cols in columns:\n",
    "    plt.plot(range(1,5),cols)\n",
    "plt.show()"
   ]
  },
  {
   "cell_type": "code",
   "execution_count": null,
   "metadata": {
    "collapsed": true
   },
   "outputs": [],
   "source": []
  },
  {
   "cell_type": "code",
   "execution_count": 12,
   "metadata": {
    "collapsed": false
   },
   "outputs": [
    {
     "name": "stdout",
     "output_type": "stream",
     "text": [
      "0.52768953505\n",
      "[50, 52, 53, 52, 51, 51, 53, 56, 53, 53, 53, 52, 51, 50, 51, 52, 53, 53, 53, 51, 50, 51, 53, 52, 53, 55, 55, 56, 53, 49, 50, 49, 49, 49, 50, 50, 48, 47, 47, 47, 46, 41, 22, 28, 33, 25, 9, 2, 0, 4, 2, 3, 2, 0, 0, 0, 0, 0, 0, 0, 0, 0, 0, 0, 0, 0, 0, 0, 0, 0, 0, 0, 0, 0, 0, 0, 0, 0, 1, 0, 2, 0, 0, 1, 6, 3, 1, 2, 2, 6, 9, 4, 3, 0, 0, 0, 0, 0, 0, 0, 0, 0, 0, 0, 0, 0, 0, 0, 0, 0, 0, 0, 0, 0, 0, 0, 5, 1, 2, 3, 0, 0, 2, 1, 0, 0, 0, 0, 0, 0, 0, 0, 2, 0, 0, 0, 0, 0, 0, 0, 4, 3, 4, 1, 0, 0, 0, 0, 0, 0, 0, 0, 0, 0, 0, 0, 0, 0, 1, 0, 0, 0, 1, 0, 0, 4, 52, 95, 18, 81, 29, 16, 100, 92, 96, 100, 100, 100, 100, 100, 99, 99, 99, 98, 34, 16, 0, 0, 0, 0, 0, 0, 10, 42, 95, 20, 0, 19, 6]\n"
     ]
    }
   ],
   "source": [
    "import csv\n",
    "import networkx as nx\n",
    "import numpy as np\n",
    "from scipy.linalg import expm\n",
    "import matplotlib.pyplot as plt\n",
    "from pylab import *\n",
    "\n",
    "n= 100\n",
    "G = nx.barabasi_albert_graph(n, 2, seed=None)\n",
    "phi_array = np.random.rand(n)\n",
    "phi_0 = phi_array.tolist()\n",
    "a = nx.laplacian_matrix(G).todense()\n",
    "lst = [phi_0]\n",
    "c_list = []\n",
    "\n",
    "phi_avg = np.average(phi_0)\n",
    "print(phi_avg)\n",
    "\n",
    "for t in range(1,200):\n",
    "    c= 0\n",
    "    phi_t = np.dot(phi_0, expm(-a*t*0.05))\n",
    "    lst.append(phi_t)\n",
    "    phi_0 = phi_t\n",
    "    for item in phi_0:\n",
    "        if(item < phi_avg):\n",
    "            c= c+1\n",
    "    c_list.append(c)\n",
    "print(c_list)\n",
    "plt.plot(range(1,200),c_list)\n",
    "plt.show()"
   ]
  },
  {
   "cell_type": "code",
   "execution_count": 84,
   "metadata": {
    "collapsed": false
   },
   "outputs": [
    {
     "data": {
      "text/plain": [
       "matrix([[ 0.,  0.,  0.],\n",
       "        [ 0.,  0.,  0.]])"
      ]
     },
     "execution_count": 84,
     "metadata": {},
     "output_type": "execute_result"
    }
   ],
   "source": [
    "import numpy.matlib\n",
    "np.matlib.zeros((2, 3))"
   ]
  },
  {
   "cell_type": "code",
   "execution_count": 85,
   "metadata": {
    "collapsed": false
   },
   "outputs": [],
   "source": [
    "import numpy.matlib\n",
    "\n",
    "def nodes_connected(u, v):\n",
    "    return u in G.neighbors(v)\n",
    "\n",
    "def generalisedLaplacianMatrix(G,x):\n",
    "    nodelist = nx.nodes(G)\n",
    "    nsize = len(nodelist)\n",
    "    mp = np.matlib.zeros((nsize, nsize))\n",
    "    i = 1\n",
    "    for n in nodelist:\n",
    "        c = 0\n",
    "        for m in nodelist[i:]:\n",
    "            if(nodes_connected(n,m)):\n",
    "                mp[n-1,m-1]= mp[m-1,n-1]= -1\n",
    "            else:\n",
    "                s = nx.shortest_path_length(G, source=n,target=m)\n",
    "                mp[n-1,m-1]= mp[m-1,n-1]= -(s*pow(x,(s-1)))\n",
    "        i = i+1\n",
    "        mp[n-1,n-1]= np.sum(mp[n-1]*-1)\n",
    "    return mp"
   ]
  },
  {
   "cell_type": "code",
   "execution_count": 88,
   "metadata": {
    "collapsed": false
   },
   "outputs": [
    {
     "name": "stdout",
     "output_type": "stream",
     "text": [
      "100\n"
     ]
    }
   ],
   "source": [
    "import networkx as nx\n",
    "import numpy as np\n",
    "from scipy.linalg import expm\n",
    "import matplotlib.pyplot as plt\n",
    "from pylab import *\n",
    "\n",
    "n= 100\n",
    "G = nx.barabasi_albert_graph(n, 2, seed=None)\n",
    "phi_array = np.random.rand(n)\n",
    "phi_0 = phi_array.tolist()\n",
    "a = generalisedLaplacianMatrix(G,0.4)\n",
    "lst = [phi_0]\n",
    "print(len(phi_0))\n",
    "f = open('file3.txt', 'w')\n",
    "for t in range(1,5):\n",
    "    for u in phi_0:\n",
    "        f.write(\"%f  \" %(u))\n",
    "    f.write(\"\\n\")\n",
    "    phi_t = np.dot(phi_0, expm(-a*t*0.05))\n",
    "    lst.append(phi_t)\n",
    "    phi_0 = phi_t\n",
    "f.close()\n",
    "for list in lst:\n",
    "    plt.plot(range(1,n+1),list)\n",
    "plt.show()"
   ]
  },
  {
   "cell_type": "code",
   "execution_count": 5,
   "metadata": {
    "collapsed": false
   },
   "outputs": [
    {
     "ename": "TypeError",
     "evalue": "'str' does not support the buffer interface",
     "output_type": "error",
     "traceback": [
      "\u001b[0;31m---------------------------------------------------------------------------\u001b[0m",
      "\u001b[0;31mTypeError\u001b[0m                                 Traceback (most recent call last)",
      "\u001b[0;32m<ipython-input-5-03b5a94bc7b6>\u001b[0m in \u001b[0;36m<module>\u001b[0;34m()\u001b[0m\n\u001b[1;32m      4\u001b[0m     spamwriter = csv.writer(csvfile, delimiter=' ',\n\u001b[1;32m      5\u001b[0m                             quotechar='|', quoting=csv.QUOTE_MINIMAL)\n\u001b[0;32m----> 6\u001b[0;31m     \u001b[0mspamwriter\u001b[0m\u001b[0;34m.\u001b[0m\u001b[0mwriterow\u001b[0m\u001b[0;34m(\u001b[0m\u001b[0;34m[\u001b[0m\u001b[0;34m'Spam'\u001b[0m\u001b[0;34m]\u001b[0m  \u001b[0;34m+\u001b[0m \u001b[0;34m[\u001b[0m\u001b[0;34m'Baked Beans'\u001b[0m\u001b[0;34m]\u001b[0m\u001b[0;34m)\u001b[0m\u001b[0;34m\u001b[0m\u001b[0m\n\u001b[0m\u001b[1;32m      7\u001b[0m     \u001b[0mspamwriter\u001b[0m\u001b[0;34m.\u001b[0m\u001b[0mwriterow\u001b[0m\u001b[0;34m(\u001b[0m\u001b[0;34m[\u001b[0m\u001b[0;34m'Spam'\u001b[0m\u001b[0;34m,\u001b[0m \u001b[0;34m'Lovely Spam'\u001b[0m\u001b[0;34m,\u001b[0m \u001b[0;34m'Wonderful Spam'\u001b[0m\u001b[0;34m]\u001b[0m\u001b[0;34m)\u001b[0m\u001b[0;34m\u001b[0m\u001b[0m\n",
      "\u001b[0;31mTypeError\u001b[0m: 'str' does not support the buffer interface"
     ]
    }
   ],
   "source": []
  },
  {
   "cell_type": "code",
   "execution_count": null,
   "metadata": {
    "collapsed": false
   },
   "outputs": [],
   "source": []
  },
  {
   "cell_type": "code",
   "execution_count": null,
   "metadata": {
    "collapsed": true
   },
   "outputs": [],
   "source": []
  }
 ],
 "metadata": {
  "kernelspec": {
   "display_name": "Python 3",
   "language": "python",
   "name": "python3"
  },
  "language_info": {
   "codemirror_mode": {
    "name": "ipython",
    "version": 3
   },
   "file_extension": ".py",
   "mimetype": "text/x-python",
   "name": "python",
   "nbconvert_exporter": "python",
   "pygments_lexer": "ipython3",
   "version": "3.4.3"
  }
 },
 "nbformat": 4,
 "nbformat_minor": 1
}
