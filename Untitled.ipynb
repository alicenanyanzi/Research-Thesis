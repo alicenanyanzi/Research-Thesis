{
 "cells": [
  {
   "cell_type": "code",
   "execution_count": 20,
   "metadata": {
    "collapsed": true
   },
   "outputs": [],
   "source": [
    "import networkx as nx\n",
    "import numpy as np\n",
    "def laplacianenergy_change(G,edge_list):\n",
    "    def laplacian_energy(G):\n",
    "        d = G.degree(weight='weight')                      # compute x_is\n",
    "        x_i= d.values()\n",
    "        #sum_x = np.sum( np.square(x_i))                    # compute sum of x_is  \n",
    "        sum_x = 0\n",
    "        for x in x_i:\n",
    "            sum_x = sum_x + (x**2)\n",
    "\n",
    "        W = nx.adjacency_matrix(G)                         # compute the weighted adjacency\n",
    "\n",
    "        dimn = np.shape(W)                                 # compute the number of rows and columns of the matrix\n",
    "        nrows = dimn[0]\n",
    "        ncols = dimn[1]\n",
    "\n",
    "        s_w = 0                                           # compute sum of square of weights\n",
    "        for i in range(0,nrows-1):\n",
    "            for j in range(i+1,ncols):\n",
    "                s_w = s_w + np.square(W[i,j])\n",
    "\n",
    "        E = sum_x + 2*s_w                                # compute laplacian energy\n",
    "        return(E)\n",
    "\n",
    "\n",
    "    lap_dict ={}                                        # empty dictionary\n",
    "    \n",
    "    G.remove_edges_from(edge_list)                               # subgraph without node n\n",
    "    lap_centrality = laplacian_energy(G)         # compute laplacian centrality\n",
    "    #lap_dict[n]=lap_centrality                                                       # append to dictionary\n",
    "    return(lap_centrality )"
   ]
  },
  {
   "cell_type": "code",
   "execution_count": 21,
   "metadata": {
    "collapsed": false
   },
   "outputs": [
    {
     "data": {
      "text/plain": [
       "18.0"
      ]
     },
     "execution_count": 21,
     "metadata": {},
     "output_type": "execute_result"
    }
   ],
   "source": [
    "import matplotlib.pyplot as plt\n",
    "import networkx as nx\n",
    "import numpy as np\n",
    "G = nx.Graph()\n",
    "G.add_nodes_from([1,2,3,4])\n",
    "edelist = [(1,2,1.0),(2,3,1.0),(2,4,1.0),(3,4,1.0)]\n",
    "G.add_weighted_edges_from(edelist)\n",
    "edge_list = [(1,2,1.0)]\n",
    "laplacianenergy_change(G,edge_list)"
   ]
  },
  {
   "cell_type": "code",
   "execution_count": 22,
   "metadata": {
    "collapsed": false
   },
   "outputs": [
    {
     "data": {
      "text/plain": [
       "8.0"
      ]
     },
     "execution_count": 22,
     "metadata": {},
     "output_type": "execute_result"
    }
   ],
   "source": [
    "import matplotlib.pyplot as plt\n",
    "import networkx as nx\n",
    "import numpy as np\n",
    "G = nx.Graph()\n",
    "G.add_nodes_from([1,2,3,4])\n",
    "edelist = [(1,2,1.0),(2,3,1.0),(2,4,1.0),(3,4,1.0)]\n",
    "G.add_weighted_edges_from(edelist)\n",
    "edge_list = [(2,3,1.0),(2,4,1.0)]\n",
    "laplacianenergy_change(G,edge_list)"
   ]
  },
  {
   "cell_type": "code",
   "execution_count": 23,
   "metadata": {
    "collapsed": false
   },
   "outputs": [
    {
     "data": {
      "text/plain": [
       "10.0"
      ]
     },
     "execution_count": 23,
     "metadata": {},
     "output_type": "execute_result"
    }
   ],
   "source": [
    "import matplotlib.pyplot as plt\n",
    "import networkx as nx\n",
    "import numpy as np\n",
    "G = nx.Graph()\n",
    "G.add_nodes_from([1,2,3,4])\n",
    "edelist = [(1,2,1.0),(2,3,1.0),(2,4,1.0),(3,4,1.0)]\n",
    "G.add_weighted_edges_from(edelist)\n",
    "edge_list = [(3,4,1.0),(2,4,1.0)]\n",
    "laplacianenergy_change(G,edge_list)"
   ]
  },
  {
   "cell_type": "code",
   "execution_count": 27,
   "metadata": {
    "collapsed": true
   },
   "outputs": [],
   "source": [
    "\n",
    "\n",
    "import networkx as nx\n",
    "import numpy as np\n",
    "def change_laplacian_energy(G):\n",
    "    def laplacian_energy(G):\n",
    "        d = G.degree(weight='weight')                      # compute x_is\n",
    "        x_i= d.values()\n",
    "        #sum_x = np.sum( np.square(x_i))                    # compute sum of x_is  \n",
    "        sum_x = 0\n",
    "        for x in x_i:\n",
    "            sum_x = sum_x + (x**2)\n",
    "\n",
    "        W = nx.adjacency_matrix(G)                         # compute the weighted adjacency\n",
    "\n",
    "        dimn = np.shape(W)                                 # compute the number of rows and columns of the matrix\n",
    "        nrows = dimn[0]\n",
    "        ncols = dimn[1]\n",
    "\n",
    "        s_w = 0                                           # compute sum of square of weights\n",
    "        for i in range(0,nrows-1):\n",
    "            for j in range(i+1,ncols):\n",
    "                s_w = s_w + np.square(W[i,j])\n",
    "\n",
    "        E = sum_x + 2*s_w                                # compute laplacian energy\n",
    "        return(E)\n",
    "\n",
    "    def new_nodelist(nodes,i):                           # new list of nodes without a specified node\n",
    "        nodes.remove(i)\n",
    "        return(nodes)\n",
    "\n",
    "    lap_dict ={}                                        # empty dictionary\n",
    "    for n in G.nodes():\n",
    "        H = G.subgraph(new_nodelist(G.nodes(),n))       # subgraph without node n\n",
    "        lap_centrality = (laplacian_energy(G) -laplacian_energy(H)) # compute laplacian centrality\n",
    "        lap_dict[n]=lap_centrality                                                       # append to dictionary\n",
    "    return(lap_dict)  \n"
   ]
  },
  {
   "cell_type": "code",
   "execution_count": 29,
   "metadata": {
    "collapsed": false
   },
   "outputs": [
    {
     "data": {
      "text/plain": [
       "{'e1': 18.0, 'e2': 26.0, 'e3': 18.0, 'e4': 26.0}"
      ]
     },
     "execution_count": 29,
     "metadata": {},
     "output_type": "execute_result"
    }
   ],
   "source": [
    "import matplotlib.pyplot as plt\n",
    "import networkx as nx\n",
    "import numpy as np\n",
    "G = nx.Graph()\n",
    "edelist = [(\"e1\",\"e2\",1.0),(\"e2\",\"e3\",1.0),(\"e2\",\"e4\",1.0),(\"e3\",\"e4\",1.0),(\"e1\",\"e4\",1.0)]\n",
    "G.add_weighted_edges_from(edelist)\n",
    "change_laplacian_energy(G)"
   ]
  },
  {
   "cell_type": "code",
   "execution_count": null,
   "metadata": {
    "collapsed": true
   },
   "outputs": [],
   "source": []
  }
 ],
 "metadata": {
  "kernelspec": {
   "display_name": "Python 3",
   "language": "python",
   "name": "python3"
  },
  "language_info": {
   "codemirror_mode": {
    "name": "ipython",
    "version": 3
   },
   "file_extension": ".py",
   "mimetype": "text/x-python",
   "name": "python",
   "nbconvert_exporter": "python",
   "pygments_lexer": "ipython3",
   "version": "3.4.3"
  }
 },
 "nbformat": 4,
 "nbformat_minor": 1
}
