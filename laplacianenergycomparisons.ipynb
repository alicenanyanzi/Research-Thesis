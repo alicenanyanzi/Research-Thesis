{
 "cells": [
  {
   "cell_type": "code",
   "execution_count": 11,
   "metadata": {},
   "outputs": [
    {
     "data": {
      "text/plain": [
       "19.999999999999993"
      ]
     },
     "execution_count": 11,
     "metadata": {},
     "output_type": "execute_result"
    }
   ],
   "source": [
    "import networkx as nx\n",
    "import numpy as np\n",
    "\n",
    "G = nx.Graph()\n",
    "e_list = [(1,2),(2,3),(3,4),(5,6)]\n",
    "G.add_edges_from(e_list)\n",
    "L = nx.laplacian_matrix(G)\n",
    "A = nx.laplacian_spectrum(G)\n",
    "np.sum(np.square(A))"
   ]
  },
  {
   "cell_type": "code",
   "execution_count": 28,
   "metadata": {},
   "outputs": [
    {
     "name": "stdout",
     "output_type": "stream",
     "text": [
      "[ -1.00000000e+00+0.j   2.00000000e+00+0.j  -1.00000000e+00+0.j\n",
      "  -1.41421356e+00+0.j   9.77950360e-17+0.j   1.41421356e+00+0.j]\n",
      "[ -1.11022302e-16   3.92505363e-17   1.00000000e+00   3.00000000e+00\n",
      "   3.00000000e+00   3.00000000e+00]\n"
     ]
    }
   ],
   "source": [
    "G = nx.Graph()\n",
    "e_list = [(1,2),(2,3),(3,1),(4,5),(5,6)]\n",
    "G.add_edges_from(e_list)\n",
    "L = nx.laplacian_spectrum(G)\n",
    "#np.sum(np.square(L))\n",
    "print(A)\n",
    "print(L)"
   ]
  },
  {
   "cell_type": "code",
   "execution_count": 1,
   "metadata": {},
   "outputs": [
    {
     "name": "stdout",
     "output_type": "stream",
     "text": [
      "22.0\n",
      "[ -1.11022302e-16   0.00000000e+00   2.00000000e+00   3.00000000e+00\n",
      "   3.00000000e+00]\n"
     ]
    }
   ],
   "source": [
    "import networkx as nx\n",
    "import numpy as np\n",
    "G = nx.Graph()\n",
    "e_list = [(1,2),(2,3),(3,1),(4,5)]\n",
    "G.add_edges_from(e_list)\n",
    "L = nx.laplacian_matrix(G)\n",
    "A = nx.laplacian_spectrum(G)\n",
    "print(np.sum(np.square(A)))\n",
    "print(A)"
   ]
  },
  {
   "cell_type": "code",
   "execution_count": 12,
   "metadata": {},
   "outputs": [
    {
     "name": "stdout",
     "output_type": "stream",
     "text": [
      "1.6\n",
      "6.4\n"
     ]
    }
   ],
   "source": [
    "C = 2*len(G.edges())/len(G.nodes())\n",
    "print(C)\n",
    "sum = 0\n",
    "for a in A:\n",
    "    sum = sum+ abs(a-C)\n",
    "print(sum)    "
   ]
  },
  {
   "cell_type": "code",
   "execution_count": 2,
   "metadata": {},
   "outputs": [
    {
     "name": "stdout",
     "output_type": "stream",
     "text": [
      "[ -1.11022302e-16   3.00000000e+00   3.00000000e+00]\n"
     ]
    }
   ],
   "source": [
    "G = nx.Graph()\n",
    "e_list = [(1,2),(2,3),(3,1)]\n",
    "G.add_edges_from(e_list)\n",
    "L = nx.laplacian_spectrum(G)\n",
    "np.sum(np.square(L))\n",
    "print(L)"
   ]
  },
  {
   "cell_type": "code",
   "execution_count": 3,
   "metadata": {},
   "outputs": [
    {
     "name": "stdout",
     "output_type": "stream",
     "text": [
      "[ 0.  2.]\n"
     ]
    }
   ],
   "source": [
    "G = nx.Graph()\n",
    "e_list = [(4,5)]\n",
    "G.add_edges_from(e_list)\n",
    "L = nx.laplacian_spectrum(G)\n",
    "np.sum(np.square(L))\n",
    "print(L)"
   ]
  },
  {
   "cell_type": "code",
   "execution_count": null,
   "metadata": {
    "collapsed": true
   },
   "outputs": [],
   "source": []
  }
 ],
 "metadata": {
  "kernelspec": {
   "display_name": "Python 3",
   "language": "python",
   "name": "python3"
  },
  "language_info": {
   "codemirror_mode": {
    "name": "ipython",
    "version": 3
   },
   "file_extension": ".py",
   "mimetype": "text/x-python",
   "name": "python",
   "nbconvert_exporter": "python",
   "pygments_lexer": "ipython3",
   "version": "3.4.3"
  }
 },
 "nbformat": 4,
 "nbformat_minor": 2
}
