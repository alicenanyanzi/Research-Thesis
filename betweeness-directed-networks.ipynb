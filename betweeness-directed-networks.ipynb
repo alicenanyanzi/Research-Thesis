{
 "cells": [
  {
   "cell_type": "code",
   "execution_count": 1,
   "metadata": {},
   "outputs": [
    {
     "data": {
      "text/plain": [
       "{(1, 2): 0.11904761904761904,\n",
       " (1, 3): 0.023809523809523808,\n",
       " (2, 4): 0.2857142857142857,\n",
       " (3, 2): 0.11904761904761904,\n",
       " (4, 5): 0.2857142857142857,\n",
       " (5, 6): 0.11904761904761904,\n",
       " (5, 7): 0.11904761904761904}"
      ]
     },
     "execution_count": 1,
     "metadata": {},
     "output_type": "execute_result"
    }
   ],
   "source": [
    "import networkx as nx\n",
    "\n",
    "G = nx.DiGraph()\n",
    "edge_list = [(1,2,2.0),(1,3,3.0),(3,2,4.0),(2,4,1.0),(4,5,2.0),(5,6,2.0),(5,7,3.0)]\n",
    "G.add_weighted_edges_from(edge_list)\n",
    "nx.betweenness_centrality(G, k=None, normalized=True, weight='weight', endpoints=False, seed=None)\n",
    "nx.edge_betweenness_centrality(G, normalized=True, weight='weight')"
   ]
  },
  {
   "cell_type": "code",
   "execution_count": 2,
   "metadata": {},
   "outputs": [
    {
     "data": {
      "text/plain": [
       "{(1, 2): 0.13333333333333333,\n",
       " (1, 3): 0.03333333333333333,\n",
       " (2, 3): 0.03333333333333333,\n",
       " (2, 4): 0.13333333333333333,\n",
       " (2, 5): 0.06666666666666667,\n",
       " (3, 5): 0.1,\n",
       " (4, 6): 0.1,\n",
       " (5, 4): 0.06666666666666667,\n",
       " (5, 6): 0.06666666666666667}"
      ]
     },
     "execution_count": 2,
     "metadata": {},
     "output_type": "execute_result"
    }
   ],
   "source": [
    "G = nx.DiGraph()\n",
    "edge_list = [(1,2,10.0),(1,3,10.0),(2,3,2.0),(2,4,4.0),(3,5,9.0),(2,5,8.0),(5,4,6.0),(5,6,10.0),(4,6,10.0)]\n",
    "G.add_weighted_edges_from(edge_list)\n",
    "nx.betweenness_centrality(G, k=None, normalized=True, weight='weight', endpoints=False, seed=None)\n",
    "nx.edge_betweenness_centrality(G, normalized=True, weight='weight')"
   ]
  },
  {
   "cell_type": "code",
   "execution_count": 9,
   "metadata": {},
   "outputs": [
    {
     "ename": "AttributeError",
     "evalue": "'module' object has no attribute 'edge_load_centrality'",
     "output_type": "error",
     "traceback": [
      "\u001b[0;31m---------------------------------------------------------------------------\u001b[0m",
      "\u001b[0;31mAttributeError\u001b[0m                            Traceback (most recent call last)",
      "\u001b[0;32m<ipython-input-9-44b1318a7dc0>\u001b[0m in \u001b[0;36m<module>\u001b[0;34m()\u001b[0m\n\u001b[1;32m      4\u001b[0m \u001b[0mnx\u001b[0m\u001b[0;34m.\u001b[0m\u001b[0mbetweenness_centrality\u001b[0m\u001b[0;34m(\u001b[0m\u001b[0mG\u001b[0m\u001b[0;34m,\u001b[0m \u001b[0mk\u001b[0m\u001b[0;34m=\u001b[0m\u001b[0;32mNone\u001b[0m\u001b[0;34m,\u001b[0m \u001b[0mnormalized\u001b[0m\u001b[0;34m=\u001b[0m\u001b[0;32mTrue\u001b[0m\u001b[0;34m,\u001b[0m \u001b[0mweight\u001b[0m\u001b[0;34m=\u001b[0m\u001b[0;34m'weight'\u001b[0m\u001b[0;34m,\u001b[0m \u001b[0mendpoints\u001b[0m\u001b[0;34m=\u001b[0m\u001b[0;32mFalse\u001b[0m\u001b[0;34m,\u001b[0m \u001b[0mseed\u001b[0m\u001b[0;34m=\u001b[0m\u001b[0;32mNone\u001b[0m\u001b[0;34m)\u001b[0m\u001b[0;34m\u001b[0m\u001b[0m\n\u001b[1;32m      5\u001b[0m \u001b[0mnx\u001b[0m\u001b[0;34m.\u001b[0m\u001b[0medge_betweenness_centrality\u001b[0m\u001b[0;34m(\u001b[0m\u001b[0mG\u001b[0m\u001b[0;34m,\u001b[0m \u001b[0mnormalized\u001b[0m\u001b[0;34m=\u001b[0m\u001b[0;32mTrue\u001b[0m\u001b[0;34m,\u001b[0m \u001b[0mweight\u001b[0m\u001b[0;34m=\u001b[0m\u001b[0;34m'weight'\u001b[0m\u001b[0;34m)\u001b[0m\u001b[0;34m\u001b[0m\u001b[0m\n\u001b[0;32m----> 6\u001b[0;31m \u001b[0mnx\u001b[0m\u001b[0;34m.\u001b[0m\u001b[0medge_load_centrality\u001b[0m\u001b[0;34m(\u001b[0m\u001b[0mG\u001b[0m\u001b[0;34m,\u001b[0m \u001b[0mv\u001b[0m\u001b[0;34m=\u001b[0m\u001b[0;32mNone\u001b[0m\u001b[0;34m,\u001b[0m \u001b[0mcutoff\u001b[0m\u001b[0;34m=\u001b[0m\u001b[0;32mNone\u001b[0m\u001b[0;34m,\u001b[0m \u001b[0mnormalized\u001b[0m\u001b[0;34m=\u001b[0m\u001b[0;32mTrue\u001b[0m\u001b[0;34m,\u001b[0m \u001b[0mweight\u001b[0m\u001b[0;34m=\u001b[0m\u001b[0;32mNone\u001b[0m\u001b[0;34m)\u001b[0m\u001b[0;34m\u001b[0m\u001b[0m\n\u001b[0m",
      "\u001b[0;31mAttributeError\u001b[0m: 'module' object has no attribute 'edge_load_centrality'"
     ]
    }
   ],
   "source": [
    "G = nx.DiGraph()\n",
    "edge_list = [(1,2,9.0),(1,3,9.0),(2,3,10.0),(3,4,3.0),(3,5,1.0),(2,5,8.0),(4,5,8.0),(5,6,10.0),(4,6,7.0)]\n",
    "G.add_weighted_edges_from(edge_list)\n",
    "nx.betweenness_centrality(G, k=None, normalized=True, weight='weight', endpoints=False, seed=None)\n",
    "nx.edge_betweenness_centrality(G, normalized=True, weight='weight')\n",
    "nx.load_centrality(G, v=None, cutoff=None, normalized=True, weight=None)"
   ]
  },
  {
   "cell_type": "code",
   "execution_count": 5,
   "metadata": {},
   "outputs": [
    {
     "data": {
      "text/plain": [
       "{1: 0.0, 2: 0.2, 3: 0.05, 4: 0.0, 5: 0.2, 6: 0.0}"
      ]
     },
     "execution_count": 5,
     "metadata": {},
     "output_type": "execute_result"
    }
   ],
   "source": [
    "import networkx as nx\n",
    "\n",
    "G = nx.DiGraph()\n",
    "edge_list = [(1,2,5.0),(1,3,4.0),(3,2,3.0),(3,4,3.0),(2,5,4.0),(5,4,1.0),(5,6,2.0),(4,6,8.0)]\n",
    "G.add_weighted_edges_from(edge_list)\n",
    "nx.betweenness_centrality(G, k=None, normalized=True, weight='weight', endpoints=False, seed=None)\n",
    "#nx.edge_betweenness_centrality(G, normalized=True, weight='weight')"
   ]
  },
  {
   "cell_type": "code",
   "execution_count": 6,
   "metadata": {},
   "outputs": [
    {
     "data": {
      "text/plain": [
       "{1: 0.0,\n",
       " 2: 0.125,\n",
       " 3: 0.07500000000000001,\n",
       " 4: 0.07500000000000001,\n",
       " 5: 0.125,\n",
       " 6: 0.0}"
      ]
     },
     "execution_count": 6,
     "metadata": {},
     "output_type": "execute_result"
    }
   ],
   "source": [
    "nx.load_centrality(G, v=None, cutoff=None, normalized=True, weight=None)"
   ]
  },
  {
   "cell_type": "code",
   "execution_count": 12,
   "metadata": {},
   "outputs": [
    {
     "data": {
      "text/plain": [
       "{'A': 0.042328042328042326,\n",
       " 'B': 0.03439153439153439,\n",
       " 'C': 0.05423280423280423,\n",
       " 'D': 0.019841269841269837,\n",
       " 'E': 0.13888888888888887,\n",
       " 'F': 0.019841269841269837,\n",
       " 'S': 0.0,\n",
       " 'T': 0.0}"
      ]
     },
     "execution_count": 12,
     "metadata": {},
     "output_type": "execute_result"
    }
   ],
   "source": [
    "import networkx as nx\n",
    "\n",
    "G = nx.DiGraph()\n",
    "edge_list = [('S','A',8.0),('S','B',7.0),('S','C',4.0),('A','B',2.0),('B','C',5.0),('A','D',3.0),('A','E',9.0),('B','E',6.0),\n",
    "            ('E','D',3.0),('E','F',4.0),('C','F',2.0),('C','E',7.0),('D','T',9.0),('E','T',5.0),('F','T',8.0)]\n",
    "G.add_weighted_edges_from(edge_list)\n",
    "nx.load_centrality(G, v=None, cutoff=None, normalized=True, weight=None)"
   ]
  },
  {
   "cell_type": "code",
   "execution_count": null,
   "metadata": {
    "collapsed": true
   },
   "outputs": [],
   "source": []
  }
 ],
 "metadata": {
  "kernelspec": {
   "display_name": "Python 3",
   "language": "python",
   "name": "python3"
  },
  "language_info": {
   "codemirror_mode": {
    "name": "ipython",
    "version": 3
   },
   "file_extension": ".py",
   "mimetype": "text/x-python",
   "name": "python",
   "nbconvert_exporter": "python",
   "pygments_lexer": "ipython3",
   "version": "3.4.3"
  }
 },
 "nbformat": 4,
 "nbformat_minor": 1
}
