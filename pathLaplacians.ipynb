{
 "cells": [
  {
   "cell_type": "code",
   "execution_count": 4,
   "metadata": {
    "collapsed": false
   },
   "outputs": [
    {
     "data": {
      "text/plain": [
       "array([ -2.22044605e-16+0.j,   8.29913513e-01+0.j,   4.48119430e+00+0.j,\n",
       "         2.68889218e+00+0.j,   2.00000000e+00+0.j])"
      ]
     },
     "execution_count": 4,
     "metadata": {},
     "output_type": "execute_result"
    }
   ],
   "source": [
    "import numpy as np\n",
    "from scipy import linalg as LA\n",
    "x = np.matrix( ((1,-1,0,0,0), (-1,3,-1,0,-1),(0,-1,2,-1,0),(0,0,-1,2,-1),(0,-1,0,-1,2)))\n",
    "e_vals, e_vecs = LA.eig(x)\n",
    "e_vals"
   ]
  },
  {
   "cell_type": "code",
   "execution_count": 5,
   "metadata": {
    "collapsed": false
   },
   "outputs": [
    {
     "data": {
      "text/plain": [
       "array([  3.00000000e+00+0.j,  -2.22044605e-16+0.j,   0.00000000e+00+0.j,\n",
       "         2.00000000e+00+0.j,   3.00000000e+00+0.j])"
      ]
     },
     "execution_count": 5,
     "metadata": {},
     "output_type": "execute_result"
    }
   ],
   "source": [
    "y = np.matrix( ((2,0,-1,0,-1), (0,1,0,-1,0),(-1,0,2,0,-1),(0,-1,0,1,0),(-1,0,-1,0,2)))\n",
    "e_vals, e_vecs = LA.eig(y)\n",
    "e_vals"
   ]
  },
  {
   "cell_type": "code",
   "execution_count": 6,
   "metadata": {
    "collapsed": false
   },
   "outputs": [
    {
     "data": {
      "text/plain": [
       "array([ 2.+0.j,  0.+0.j,  0.+0.j,  0.+0.j,  0.+0.j])"
      ]
     },
     "execution_count": 6,
     "metadata": {},
     "output_type": "execute_result"
    }
   ],
   "source": [
    "z = np.matrix( ((1,0,0,-1,0), (0,0,0,0,0),(0,0,0,0,0),(-1,0,0,1,0),(0,0,0,0,0)))\n",
    "e_vals, e_vecs = LA.eig(z)\n",
    "e_vals"
   ]
  },
  {
   "cell_type": "code",
   "execution_count": 7,
   "metadata": {
    "collapsed": false
   },
   "outputs": [
    {
     "data": {
      "text/plain": [
       "array([ 5.+0.j,  0.+0.j,  5.+0.j,  5.+0.j,  5.+0.j])"
      ]
     },
     "execution_count": 7,
     "metadata": {},
     "output_type": "execute_result"
    }
   ],
   "source": [
    "a = np.matrix( ((4,-1,-1,-1,-1), (-1,4,-1,-1,-1),(-1,-1,4,-1,-1),(-1,-1,-1,4,-1),(-1,-1,-1,-1,4)))\n",
    "e_vals, e_vecs = LA.eig(a)\n",
    "e_vals"
   ]
  },
  {
   "cell_type": "code",
   "execution_count": 8,
   "metadata": {
    "collapsed": false
   },
   "outputs": [
    {
     "data": {
      "text/plain": [
       "array([  4.00000000e+00+0.j,  -1.11022302e-16+0.j,   4.00000000e+00+0.j,\n",
       "         4.00000000e+00+0.j])"
      ]
     },
     "execution_count": 8,
     "metadata": {},
     "output_type": "execute_result"
    }
   ],
   "source": [
    "a = np.matrix( ((3,-1,-1,-1), (-1,3,-1,-1),(-1,-1,3,-1),(-1,-1,-1,3)))\n",
    "e_vals, e_vecs = LA.eig(a)\n",
    "e_vals"
   ]
  },
  {
   "cell_type": "code",
   "execution_count": 15,
   "metadata": {
    "collapsed": false
   },
   "outputs": [],
   "source": [
    "import networkx as nx\n",
    "import numpy as np\n",
    "\n",
    "G = nx.Graph()\n",
    "edge_list = [(1,2),(2,3),(2,5),(3,4),(4,5)]\n",
    "G.add_edges_from(edge_list)\n",
    "\n",
    "def pathlaplacian(G,k):\n",
    "    nodelist = nx.nodes(G)\n",
    "    nsize = len(nodelist)\n",
    "    mp = np.zeros(shape=(nsize,nsize))\n",
    "    i = 1\n",
    "    for n in nodelist:\n",
    "        c = 0\n",
    "        for m in nodelist[i:]:\n",
    "            s = nx.shortest_path_length(G, source=n,target=m)\n",
    "            if(s==k):\n",
    "                mp[n-1,m-1]= mp[m-1,n-1]= -1\n",
    "        i = i+1\n",
    "        mp[n-1,n-1]= np.sum(mp[n-1]*-1)\n",
    "    return mp"
   ]
  },
  {
   "cell_type": "code",
   "execution_count": 19,
   "metadata": {
    "collapsed": false
   },
   "outputs": [
    {
     "data": {
      "text/plain": [
       "array([[ 1.,  0.,  0., -1.,  0.],\n",
       "       [ 0.,  0.,  0.,  0.,  0.],\n",
       "       [ 0.,  0.,  0.,  0.,  0.],\n",
       "       [-1.,  0.,  0.,  1.,  0.],\n",
       "       [ 0.,  0.,  0.,  0.,  0.]])"
      ]
     },
     "execution_count": 19,
     "metadata": {},
     "output_type": "execute_result"
    }
   ],
   "source": [
    "G = nx.Graph()\n",
    "edge_list = [(1,2),(2,3),(2,5),(3,4),(4,5)]\n",
    "G.add_edges_from(edge_list)\n",
    "\n",
    "pathlaplacian(G,3)"
   ]
  },
  {
   "cell_type": "code",
   "execution_count": null,
   "metadata": {
    "collapsed": true
   },
   "outputs": [],
   "source": [
    "m = "
   ]
  }
 ],
 "metadata": {
  "kernelspec": {
   "display_name": "Python 3",
   "language": "python",
   "name": "python3"
  },
  "language_info": {
   "codemirror_mode": {
    "name": "ipython",
    "version": 3
   },
   "file_extension": ".py",
   "mimetype": "text/x-python",
   "name": "python",
   "nbconvert_exporter": "python",
   "pygments_lexer": "ipython3",
   "version": "3.4.3"
  }
 },
 "nbformat": 4,
 "nbformat_minor": 1
}
