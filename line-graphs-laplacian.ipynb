{
 "cells": [
  {
   "cell_type": "code",
   "execution_count": 5,
   "metadata": {},
   "outputs": [
    {
     "name": "stdout",
     "output_type": "stream",
     "text": [
      "[[(0, 1), (0, 2)], [(0, 1), (0, 3)], [(0, 2), (0, 3)]]\n"
     ]
    }
   ],
   "source": [
    "import matplotlib.pyplot as plt\n",
    "import networkx as nx\n",
    "G = nx.star_graph(3)\n",
    "L = nx.line_graph(G)\n",
    "print(sorted(map(sorted, L.edges())))  # makes a 3-clique, K3\n"
   ]
  },
  {
   "cell_type": "code",
   "execution_count": 1,
   "metadata": {
    "collapsed": true
   },
   "outputs": [],
   "source": [
    "import networkx as nx              #import the package for graphs\n",
    "import numpy as np\n",
    "import pylab as plt\n",
    "\n",
    "def laplacian_centrality(G):\n",
    "    def laplacian_energy(G):\n",
    "        d = G.degree(weight='weight')                      # compute x_is\n",
    "        x_i= d.values()\n",
    "        #sum_x = np.sum( np.square(x_i))                    # compute sum of x_is  \n",
    "        sum_x = 0\n",
    "        for x in x_i:\n",
    "            sum_x = sum_x + (x**2)\n",
    "\n",
    "        W = nx.adjacency_matrix(G)                         # compute the weighted adjacency\n",
    "\n",
    "        dimn = np.shape(W)                                 # compute the number of rows and columns of the matrix\n",
    "        nrows = dimn[0]\n",
    "        ncols = dimn[1]\n",
    "\n",
    "        s_w = 0                                           # compute sum of square of weights\n",
    "        for i in range(0,nrows-1):\n",
    "            for j in range(i+1,ncols):\n",
    "                s_w = s_w + np.square(W[i,j])\n",
    "\n",
    "        E = sum_x + 2*s_w                                # compute laplacian energy\n",
    "        return(E)\n",
    "\n",
    "    def new_nodelist(nodes,i):                           # new list of nodes without a specified node\n",
    "        nodes.remove(i)\n",
    "        return(nodes)\n",
    "\n",
    "    lap_dict ={}                                        # empty dictionary\n",
    "    for n in G.nodes():\n",
    "        H = G.subgraph(new_nodelist(G.nodes(),n))       # subgraph without node n\n",
    "        lap_centrality = (laplacian_energy(G) -laplacian_energy(H))/laplacian_energy(G)  # compute laplacian centrality\n",
    "        lap_dict[n]=lap_centrality                                                       # append to dictionary\n",
    "    return(lap_dict)   "
   ]
  },
  {
   "cell_type": "code",
   "execution_count": 2,
   "metadata": {},
   "outputs": [
    {
     "data": {
      "text/plain": [
       "{1: 0.5,\n",
       " 2: 0.33333333333333331,\n",
       " 3: 0.33333333333333331,\n",
       " 4: 0.5,\n",
       " 5: 0.375,\n",
       " 6: 0.375}"
      ]
     },
     "execution_count": 2,
     "metadata": {},
     "output_type": "execute_result"
    }
   ],
   "source": [
    "import matplotlib.pyplot as plt\n",
    "import networkx as nx\n",
    "G = nx.Graph()\n",
    "G.add_nodes_from([1,2,3,4,5,6])\n",
    "edelist = [(1,2),(1,5),(1,6), (2,3),(3,4),(4,5),(4,6)]\n",
    "G.add_edges_from(edelist)\n",
    "#L = nx.line_graph(G)\n",
    "laplacian_centrality(G)"
   ]
  },
  {
   "cell_type": "code",
   "execution_count": 23,
   "metadata": {},
   "outputs": [],
   "source": [
    "import networkx as nx              #import the package for graphs\n",
    "import numpy as np\n",
    "import pylab as plt\n",
    "\n",
    "def laplacian_centrality(G):\n",
    "    def laplacian_energy(G):\n",
    "        d = G.degree(weight='weight')                      # compute x_is\n",
    "        x_i= d.values()\n",
    "        #sum_x = np.sum( np.square(x_i))                    # compute sum of x_is  \n",
    "        sum_x = 0\n",
    "        for x in x_i:\n",
    "            sum_x = sum_x + (x**2)\n",
    "\n",
    "        W = nx.adjacency_matrix(G)                         # compute the weighted adjacency\n",
    "\n",
    "        dimn = np.shape(W)                                 # compute the number of rows and columns of the matrix\n",
    "        nrows = dimn[0]\n",
    "        ncols = dimn[1]\n",
    "\n",
    "        s_w = 0                                           # compute sum of square of weights\n",
    "        for i in range(0,nrows-1):\n",
    "            for j in range(i+1,ncols):\n",
    "                s_w = s_w + np.square(W[i,j])\n",
    "\n",
    "        E = sum_x + 2*s_w                                # compute laplacian energy\n",
    "        return(E)\n",
    "\n",
    "    def new_nodelist(nodes,i):                           # new list of nodes without a specified node\n",
    "        nodes.remove(i)\n",
    "        return(nodes)\n",
    "\n",
    "    lap_dict ={}                                        # empty dictionary\n",
    "    for n in G.nodes():\n",
    "        H = G.subgraph(new_nodelist(G.nodes(),n))       # subgraph without node n\n",
    "        lap_centrality = (laplacian_energy(G) -laplacian_energy(H))/laplacian_energy(G)  # compute laplacian centrality\n",
    "        lap_dict[n]=lap_centrality                                                       # append to dictionary\n",
    "    return(lap_dict)   "
   ]
  },
  {
   "cell_type": "code",
   "execution_count": 1,
   "metadata": {},
   "outputs": [],
   "source": [
    "import networkx as nx              #import the package for graphs\n",
    "import numpy as np\n",
    "import pylab as plt\n",
    "\n",
    "def laplacian_energy(G):\n",
    "    d = G.degree(weight='weight')                      # compute x_is\n",
    "    x_i= d.values()\n",
    "    #sum_x = np.sum(x_i**2)                    # compute sum of x_is     \n",
    "    sum_x = 0\n",
    "    for x in x_i:\n",
    "        sum_x = sum_x + (x**2)\n",
    "    W = nx.adjacency_matrix(G)                         # compute the weighted adjacency\n",
    "\n",
    "    dimn = np.shape(W)                                 # compute the number of rows and columns of the matrix\n",
    "    nrows = dimn[0]\n",
    "    ncols = dimn[1]\n",
    "\n",
    "    s_w = 0                                           # compute sum of square of weights\n",
    "    for i in range(0,nrows-1):\n",
    "        for j in range(i+1,ncols):\n",
    "            s_w = s_w + np.square(W[i,j])\n",
    "\n",
    "    E = sum_x + 2*s_w                                # compute laplacian energy\n",
    "    return(E)\n"
   ]
  },
  {
   "cell_type": "code",
   "execution_count": 2,
   "metadata": {},
   "outputs": [
    {
     "data": {
      "text/plain": [
       "48.0"
      ]
     },
     "execution_count": 2,
     "metadata": {},
     "output_type": "execute_result"
    }
   ],
   "source": [
    "\n",
    "R = nx.Graph()                                     # create an empty graph \n",
    "R.add_weighted_edges_from([(1,2,1.0),(1,5,1.0),(1,6,1.0), (2,3,1.0),(3,4,1.0),(4,5,1.0),(4,6,1.0)])\n",
    "L = nx.line_graph(R)\n",
    "laplacian_energy(R)\n"
   ]
  },
  {
   "cell_type": "code",
   "execution_count": 70,
   "metadata": {},
   "outputs": [
    {
     "data": {
      "text/plain": [
       "78"
      ]
     },
     "execution_count": 70,
     "metadata": {},
     "output_type": "execute_result"
    }
   ],
   "source": [
    "laplacian_energy(L)"
   ]
  },
  {
   "cell_type": "code",
   "execution_count": 7,
   "metadata": {},
   "outputs": [
    {
     "data": {
      "text/plain": [
       "42.0"
      ]
     },
     "execution_count": 7,
     "metadata": {},
     "output_type": "execute_result"
    }
   ],
   "source": [
    "\n",
    "R = nx.Graph()                                     # create an empty graph \n",
    "R.add_weighted_edges_from([(1,3,1.0),(1,4,1.0),(2,4,1.0), (4,3,1.0),(2,5,1.0),(3,5,1.0)])\n",
    "mx = nx.laplacian_matrix(R, nodelist=[1,2,3,4,5], weight='weight')\n",
    "mx.todense()\n",
    "laplacian_energy(R)"
   ]
  },
  {
   "cell_type": "code",
   "execution_count": 8,
   "metadata": {},
   "outputs": [
    {
     "data": {
      "text/plain": [
       "74"
      ]
     },
     "execution_count": 8,
     "metadata": {},
     "output_type": "execute_result"
    }
   ],
   "source": [
    "L = nx.line_graph(R)\n",
    "mx = nx.laplacian_matrix(L,weight='weight')\n",
    "mx.todense()\n",
    "laplacian_energy(L)"
   ]
  },
  {
   "cell_type": "code",
   "execution_count": 9,
   "metadata": {},
   "outputs": [
    {
     "data": {
      "text/plain": [
       "36.0"
      ]
     },
     "execution_count": 9,
     "metadata": {},
     "output_type": "execute_result"
    }
   ],
   "source": [
    "R = nx.Graph()                                     # create an empty graph \n",
    "R.add_weighted_edges_from([(1,2,1.0),(1,3,1.0),(2,3,1.0), (4,2,1.0),(3,4,1.0)])\n",
    "mx = nx.laplacian_matrix(R, nodelist=[1,2,3,4,5], weight='weight')\n",
    "mx.todense()\n",
    "laplacian_energy(R)"
   ]
  },
  {
   "cell_type": "code",
   "execution_count": 10,
   "metadata": {},
   "outputs": [
    {
     "data": {
      "text/plain": [
       "68"
      ]
     },
     "execution_count": 10,
     "metadata": {},
     "output_type": "execute_result"
    }
   ],
   "source": [
    "L = nx.line_graph(R)\n",
    "mx = nx.laplacian_matrix(L,weight='weight')\n",
    "mx.todense()\n",
    "laplacian_energy(L)"
   ]
  },
  {
   "cell_type": "code",
   "execution_count": 11,
   "metadata": {},
   "outputs": [
    {
     "data": {
      "text/plain": [
       "64.0"
      ]
     },
     "execution_count": 11,
     "metadata": {},
     "output_type": "execute_result"
    }
   ],
   "source": [
    "R = nx.Graph()                                     # create an empty graph \n",
    "R.add_weighted_edges_from([(1,2,1.0),(1,4,1.0),(2,3,1.0), (4,2,1.0),(3,4,1.0),(3,5,1.0),(4,5,1.0),(5,6,1.0)])\n",
    "mx = nx.laplacian_matrix(R, nodelist=[1,2,3,4,5], weight='weight')\n",
    "mx.todense()\n",
    "laplacian_energy(R)"
   ]
  },
  {
   "cell_type": "code",
   "execution_count": 12,
   "metadata": {},
   "outputs": [
    {
     "data": {
      "text/plain": [
       "168"
      ]
     },
     "execution_count": 12,
     "metadata": {},
     "output_type": "execute_result"
    }
   ],
   "source": [
    "L = nx.line_graph(R)\n",
    "mx = nx.laplacian_matrix(L,weight='weight')\n",
    "mx.todense()\n",
    "laplacian_energy(L)"
   ]
  },
  {
   "cell_type": "code",
   "execution_count": 5,
   "metadata": {},
   "outputs": [
    {
     "data": {
      "text/plain": [
       "array([ -6.85219909e-16,   7.31185310e-01,   2.13526268e+00,\n",
       "         3.46591003e+00,   4.54935812e+00,   5.11828387e+00])"
      ]
     },
     "execution_count": 5,
     "metadata": {},
     "output_type": "execute_result"
    }
   ],
   "source": [
    "import networkx as nx              #import the package for graphs\n",
    "import numpy as np\n",
    "\n",
    "R = nx.Graph()                                     # create an empty graph \n",
    "R.add_weighted_edges_from([(1,2,1.0),(1,4,1.0),(2,3,1.0), (4,2,1.0),(3,4,1.0),(3,5,1.0),(4,5,1.0),(5,6,1.0)])\n",
    "mx = nx.laplacian_matrix(R, nodelist=[1,2,3,4,5], weight='weight')\n",
    "nx.laplacian_spectrum(R)"
   ]
  },
  {
   "cell_type": "code",
   "execution_count": 6,
   "metadata": {},
   "outputs": [
    {
     "data": {
      "text/plain": [
       "array([ -2.21239765e-16,   1.48776623e+00,   3.22378361e+00,\n",
       "         3.46839075e+00,   5.06332353e+00,   5.72601883e+00,\n",
       "         6.37445734e+00,   6.65625971e+00])"
      ]
     },
     "execution_count": 6,
     "metadata": {},
     "output_type": "execute_result"
    }
   ],
   "source": [
    "L = nx.line_graph(R)\n",
    "nx.laplacian_spectrum(L)"
   ]
  },
  {
   "cell_type": "code",
   "execution_count": 3,
   "metadata": {},
   "outputs": [
    {
     "data": {
      "text/plain": [
       "{1: 400.0, 2: 496.0, 3: 433.0, 4: 352.0, 5: 497.0, 6: 320.0}"
      ]
     },
     "execution_count": 3,
     "metadata": {},
     "output_type": "execute_result"
    }
   ],
   "source": [
    "import networkx as nx              #import the package for graphs\n",
    "import numpy as np\n",
    "\n",
    "\n",
    "\n",
    "def change_energy(G):\n",
    "    def laplacian_energy_directed(G):\n",
    "        d = G.out_degree(weight='weight')                      # compute x_is\n",
    "        x_i= d.values()\n",
    "        #sum_x = np.sum(x_i**2)                    # compute sum of x_is     \n",
    "        sum_x = 0\n",
    "        for x in x_i:\n",
    "            sum_x = sum_x + (x**2)\n",
    "        return sum_x\n",
    "\n",
    "    def new_nodelist(nodes,i):                           # new list of nodes without a specified node\n",
    "        nodes.remove(i)\n",
    "        return(nodes)\n",
    "\n",
    "    lap_dict ={}                                        # empty dictionary\n",
    "    for n in G.nodes():\n",
    "        H = G.subgraph(new_nodelist(G.nodes(),n))       # subgraph without node n\n",
    "        energy_change = (laplacian_energy_directed(G) -laplacian_energy_directed(H))  # compute laplacian centrality\n",
    "        lap_dict[n]=energy_change                                                      # append to dictionary\n",
    "    return(lap_dict) \n",
    "\n",
    "R = nx.DiGraph()                                     # create an empty graph \n",
    "R.add_weighted_edges_from([(1,2,10.0),(1,3,10.0),(2,3,2.0), (2,4,4.0),(2,5,8.0),(3,5,9.0),(5,4,6.0),(5,6,10.0),(4,6,10.0)])\n",
    "deg = R.out_degree(weight='weight')\n",
    "change_energy(R)"
   ]
  },
  {
   "cell_type": "code",
   "execution_count": 4,
   "metadata": {},
   "outputs": [
    {
     "data": {
      "text/plain": [
       "{0: 841.0, 1: 1284.0, 2: 1690.0, 3: 1330.0, 4: 429.0, 5: 832.0}"
      ]
     },
     "execution_count": 4,
     "metadata": {},
     "output_type": "execute_result"
    }
   ],
   "source": [
    "R = nx.DiGraph()                                     # create an empty graph \n",
    "R.add_weighted_edges_from([(0,1,16.0),(0,2,13.0),(1,2,10.0),(2,1,4.0),(1,3,12.0),(3,2,9.0), (2,4,14.0),(3,5,20.0),(4,3,7.0),(4,5,4.0)])\n",
    "deg = R.out_degree(weight='weight')\n",
    "change_energy(R)"
   ]
  },
  {
   "cell_type": "code",
   "execution_count": 2,
   "metadata": {},
   "outputs": [
    {
     "data": {
      "text/plain": [
       "{1: 841.0,\n",
       " 2: 580.0,\n",
       " 3: 675.0,\n",
       " 4: 882.0,\n",
       " 5: 376.0,\n",
       " 6: 1154.0,\n",
       " 7: 870.0,\n",
       " 8: 916.0}"
      ]
     },
     "execution_count": 2,
     "metadata": {},
     "output_type": "execute_result"
    }
   ],
   "source": [
    "import matplotlib.pyplot as plt\n",
    "G =nx.DiGraph()\n",
    "G.add_weighted_edges_from([(1,2,10.0),(1,5,4.0),(1,7,15.0),(2,3,9.0),(2,6,1.0),(2,5,0.0),(3,6,15.0),(3,4,9.0),(5,7,0.0),(5,6,8.0),(6,4,9.0),(6,8,15.0),(7,8,15.0),(8,5,4.0),(8,4,10.0)])\n",
    "change_energy(G)"
   ]
  },
  {
   "cell_type": "code",
   "execution_count": 5,
   "metadata": {},
   "outputs": [
    {
     "data": {
      "text/plain": [
       "{1: 81.0, 2: 108.0, 3: 25.0, 4: 92.0, 5: 96.0, 6: 72.0}"
      ]
     },
     "execution_count": 5,
     "metadata": {},
     "output_type": "execute_result"
    }
   ],
   "source": [
    "R = nx.DiGraph()                                     # create an empty graph \n",
    "R.add_weighted_edges_from([(1,2,5.0),(1,4,4.0),(4,2,3.0),(2,3,4.0),(4,5,3.0),(3,5,1.0), (3,6,2.0),(5,6,8.0)])\n",
    "deg = R.out_degree(weight='weight')\n",
    "change_energy(R)"
   ]
  },
  {
   "cell_type": "code",
   "execution_count": 28,
   "metadata": {},
   "outputs": [
    {
     "data": {
      "text/plain": [
       "26"
      ]
     },
     "execution_count": 28,
     "metadata": {},
     "output_type": "execute_result"
    }
   ],
   "source": [
    "import networkx as nx              #import the package for graphs\n",
    "import numpy as np\n",
    "\n",
    "R = nx.Graph()                                     # create an empty graph \n",
    "R.add_edges_from([(1,2),(1,3),(2,3),(3,4)])\n",
    "laplacian_centrality(R)\n",
    "laplacian_energy(R)"
   ]
  },
  {
   "cell_type": "code",
   "execution_count": 27,
   "metadata": {},
   "outputs": [
    {
     "data": {
      "text/plain": [
       "10"
      ]
     },
     "execution_count": 27,
     "metadata": {},
     "output_type": "execute_result"
    }
   ],
   "source": [
    "L = nx.line_graph(R)\n",
    "laplacian_energy(L)"
   ]
  },
  {
   "cell_type": "code",
   "execution_count": 29,
   "metadata": {},
   "outputs": [
    {
     "data": {
      "text/plain": [
       "16"
      ]
     },
     "execution_count": 29,
     "metadata": {},
     "output_type": "execute_result"
    }
   ],
   "source": [
    "R = nx.Graph()                                     # create an empty graph \n",
    "R.add_edges_from([(1,2),(1,3),(3,4)])\n",
    "laplacian_centrality(R)\n",
    "laplacian_energy(R)"
   ]
  },
  {
   "cell_type": "code",
   "execution_count": 30,
   "metadata": {
    "collapsed": true
   },
   "outputs": [],
   "source": [
    "import networkx as nx              #import the package for graphs\n",
    "import numpy as np\n",
    "import pylab as plt\n",
    "\n",
    "def change_laplacian_energy(G):\n",
    "    def laplacian_energy(G):\n",
    "        d = G.degree(weight='weight')                      # compute x_is\n",
    "        x_i= d.values()\n",
    "        #sum_x = np.sum( np.square(x_i))                    # compute sum of x_is  \n",
    "        sum_x = 0\n",
    "        for x in x_i:\n",
    "            sum_x = sum_x + (x**2)\n",
    "\n",
    "        W = nx.adjacency_matrix(G)                         # compute the weighted adjacency\n",
    "\n",
    "        dimn = np.shape(W)                                 # compute the number of rows and columns of the matrix\n",
    "        nrows = dimn[0]\n",
    "        ncols = dimn[1]\n",
    "\n",
    "        s_w = 0                                           # compute sum of square of weights\n",
    "        for i in range(0,nrows-1):\n",
    "            for j in range(i+1,ncols):\n",
    "                s_w = s_w + np.square(W[i,j])\n",
    "\n",
    "        E = sum_x + 2*s_w                                # compute laplacian energy\n",
    "        return(E)\n",
    "\n",
    "    def new_nodelist(nodes,i):                           # new list of nodes without a specified node\n",
    "        nodes.remove(i)\n",
    "        return(nodes)\n",
    "\n",
    "    lap_dict ={}                                        # empty dictionary\n",
    "    for n in G.nodes():\n",
    "        H = G.subgraph(new_nodelist(G.nodes(),n))       # subgraph without node n\n",
    "        lap_centrality = (laplacian_energy(G) -laplacian_energy(H)) # compute laplacian centrality\n",
    "        lap_dict[n]=lap_centrality                                                       # append to dictionary\n",
    "    return(lap_dict)   "
   ]
  },
  {
   "cell_type": "code",
   "execution_count": 39,
   "metadata": {},
   "outputs": [
    {
     "data": {
      "text/plain": [
       "{1: 16, 2: 16, 3: 22, 4: 8}"
      ]
     },
     "execution_count": 39,
     "metadata": {},
     "output_type": "execute_result"
    }
   ],
   "source": [
    "import networkx as nx              #import the package for graphs\n",
    "import numpy as np\n",
    "\n",
    "R = nx.Graph()                                     # create an empty graph \n",
    "R.add_edges_from([(1,2),(1,3),(2,3),(3,4)])\n",
    "laplacian_centrality(R)\n",
    "change_laplacian_energy(R)"
   ]
  },
  {
   "cell_type": "code",
   "execution_count": 42,
   "metadata": {},
   "outputs": [
    {
     "data": {
      "text/plain": [
       "{(1, 2): 18, (1, 3): 26, (2, 3): 26, (3, 4): 18}"
      ]
     },
     "execution_count": 42,
     "metadata": {},
     "output_type": "execute_result"
    }
   ],
   "source": [
    "L = nx.line_graph(R)\n",
    "change_laplacian_energy(L)"
   ]
  },
  {
   "cell_type": "code",
   "execution_count": null,
   "metadata": {
    "collapsed": true
   },
   "outputs": [],
   "source": []
  }
 ],
 "metadata": {
  "kernelspec": {
   "display_name": "Python 3",
   "language": "python",
   "name": "python3"
  },
  "language_info": {
   "codemirror_mode": {
    "name": "ipython",
    "version": 3
   },
   "file_extension": ".py",
   "mimetype": "text/x-python",
   "name": "python",
   "nbconvert_exporter": "python",
   "pygments_lexer": "ipython3",
   "version": "3.4.3"
  }
 },
 "nbformat": 4,
 "nbformat_minor": 1
}
