{
 "cells": [
  {
   "cell_type": "code",
   "execution_count": null,
   "metadata": {
    "collapsed": true
   },
   "outputs": [],
   "source": [
    "import networkx as nx\n",
    "import numpy as np\n",
    "from scipy.linalg import expm\n",
    "import matplotlib.pyplot as plt\n",
    "from pylab import *\n",
    "\n",
    "\n",
    "G = nx.Graph()\n",
    "edgelst=[(1,3),(2,3),(3,4),(3,5),(4,6),(5,7),(7,8),(8,9),(5,8),(9,10)]\n",
    "G.add_edges_from(edgelst)\n",
    "\n",
    "nodes = G.nodes()\n",
    "a = nx.laplacian_matrix(G).todense()\n",
    "\n",
    "phi_0 =[0.3,0.0,0.8,0,0.5,0.2,0,0.0,0,0.2]\n",
    "lst = [phi_0]\n",
    "d = nx.degree(G)\n",
    "pos=nx.spring_layout(G)\n",
    "\n",
    "#lst, = plot()\n",
    "\n",
    "for t in range(1,10):\n",
    "    phi_t = np.dot(phi_0, expm(-a*t*0.05))\n",
    "    lst.append(phi_t)\n",
    "    nx.draw_networkx_nodes(G,pos,nodelist=d.keys(),node_size=[v * 1000 for v in phi_0])\n",
    "    phi_0 = phi_t\n"
   ]
  },
  {
   "cell_type": "code",
   "execution_count": null,
   "metadata": {
    "collapsed": true
   },
   "outputs": [],
   "source": []
  }
 ],
 "metadata": {
  "kernelspec": {
   "display_name": "Python 3",
   "language": "python",
   "name": "python3"
  },
  "language_info": {
   "codemirror_mode": {
    "name": "ipython",
    "version": 3
   },
   "file_extension": ".py",
   "mimetype": "text/x-python",
   "name": "python",
   "nbconvert_exporter": "python",
   "pygments_lexer": "ipython3",
   "version": "3.4.3"
  }
 },
 "nbformat": 4,
 "nbformat_minor": 1
}
