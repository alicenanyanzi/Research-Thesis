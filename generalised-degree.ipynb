{
 "cells": [
  {
   "cell_type": "code",
   "execution_count": 4,
   "metadata": {
    "collapsed": true
   },
   "outputs": [],
   "source": [
    "import networkx as nx\n",
    "import numpy as np\n",
    "\n",
    "def nodes_connected(u, v):\n",
    "    return u in G.neighbors(v)\n",
    "\n",
    "\n",
    "def generalisedAdjMatrix(G,x):\n",
    "    nodelist = nx.nodes(G)\n",
    "    nsize = len(nodelist)\n",
    "    mp = np.zeros(shape=(nsize,nsize))\n",
    "    i = 1\n",
    "    for n in nodelist:\n",
    "        c = 0\n",
    "        for m in nodelist[i:]:\n",
    "            if(nodes_connected(n,m)):\n",
    "                mp[n-1,m-1]= mp[m-1,n-1]= 1\n",
    "            else:\n",
    "                s = nx.shortest_path_length(G, source=n,target=m)\n",
    "                mp[n-1,m-1]= mp[m-1,n-1]= (s*pow(x,(s-1)))\n",
    "        i = i+1\n",
    "    return mp"
   ]
  },
  {
   "cell_type": "code",
   "execution_count": 5,
   "metadata": {},
   "outputs": [
    {
     "data": {
      "text/plain": [
       "32"
      ]
     },
     "execution_count": 5,
     "metadata": {},
     "output_type": "execute_result"
    }
   ],
   "source": [
    "import networkx as nx\n",
    "import numpy as np\n",
    "\n",
    "def laplacian_energy2(G):\n",
    "    d_deg = (G.degree()).values()\n",
    "    deg_sqr = np.sum([deg ** 2 for deg in d_deg])\n",
    "    deg_sum = 2*len(G.edges())\n",
    "    Lap_energy = deg_sqr + deg_sum\n",
    "    return Lap_energy\n",
    "\n",
    "\n",
    "G = nx.Graph()\n",
    "edge_list = [(1,2),(2,3),(2,5),(3,4),(4,5)]\n",
    "G.add_edges_from(edge_list)\n",
    "laplacian_energy2(G)"
   ]
  },
  {
   "cell_type": "code",
   "execution_count": 6,
   "metadata": {},
   "outputs": [
    {
     "ename": "NameError",
     "evalue": "name 'i' is not defined",
     "output_type": "error",
     "traceback": [
      "\u001b[0;31m---------------------------------------------------------------------------\u001b[0m",
      "\u001b[0;31mNameError\u001b[0m                                 Traceback (most recent call last)",
      "\u001b[0;32m<ipython-input-6-ec2b18b68144>\u001b[0m in \u001b[0;36m<module>\u001b[0;34m()\u001b[0m\n\u001b[1;32m     17\u001b[0m \u001b[0medge_list\u001b[0m \u001b[0;34m=\u001b[0m \u001b[0;34m[\u001b[0m\u001b[0;34m(\u001b[0m\u001b[0;36m1\u001b[0m\u001b[0;34m,\u001b[0m\u001b[0;36m2\u001b[0m\u001b[0;34m)\u001b[0m\u001b[0;34m,\u001b[0m\u001b[0;34m(\u001b[0m\u001b[0;36m2\u001b[0m\u001b[0;34m,\u001b[0m\u001b[0;36m3\u001b[0m\u001b[0;34m)\u001b[0m\u001b[0;34m,\u001b[0m\u001b[0;34m(\u001b[0m\u001b[0;36m2\u001b[0m\u001b[0;34m,\u001b[0m\u001b[0;36m5\u001b[0m\u001b[0;34m)\u001b[0m\u001b[0;34m,\u001b[0m\u001b[0;34m(\u001b[0m\u001b[0;36m3\u001b[0m\u001b[0;34m,\u001b[0m\u001b[0;36m4\u001b[0m\u001b[0;34m)\u001b[0m\u001b[0;34m,\u001b[0m\u001b[0;34m(\u001b[0m\u001b[0;36m4\u001b[0m\u001b[0;34m,\u001b[0m\u001b[0;36m5\u001b[0m\u001b[0;34m)\u001b[0m\u001b[0;34m]\u001b[0m\u001b[0;34m\u001b[0m\u001b[0m\n\u001b[1;32m     18\u001b[0m \u001b[0mG\u001b[0m\u001b[0;34m.\u001b[0m\u001b[0madd_edges_from\u001b[0m\u001b[0;34m(\u001b[0m\u001b[0medge_list\u001b[0m\u001b[0;34m)\u001b[0m\u001b[0;34m\u001b[0m\u001b[0m\n\u001b[0;32m---> 19\u001b[0;31m \u001b[0mgeneralisedLaplacianEnergy\u001b[0m\u001b[0;34m(\u001b[0m\u001b[0mG\u001b[0m\u001b[0;34m,\u001b[0m \u001b[0;36m0.4\u001b[0m\u001b[0;34m)\u001b[0m\u001b[0;34m\u001b[0m\u001b[0m\n\u001b[0m",
      "\u001b[0;32m<ipython-input-6-ec2b18b68144>\u001b[0m in \u001b[0;36mgeneralisedLaplacianEnergy\u001b[0;34m(G, x)\u001b[0m\n\u001b[1;32m      5\u001b[0m     \u001b[0;32mfor\u001b[0m \u001b[0mn\u001b[0m \u001b[0;32min\u001b[0m \u001b[0mnodelist\u001b[0m\u001b[0;34m:\u001b[0m\u001b[0;34m\u001b[0m\u001b[0m\n\u001b[1;32m      6\u001b[0m         \u001b[0md\u001b[0m \u001b[0;34m=\u001b[0m \u001b[0;36m0\u001b[0m\u001b[0;34m\u001b[0m\u001b[0m\n\u001b[0;32m----> 7\u001b[0;31m         \u001b[0;32mfor\u001b[0m \u001b[0mm\u001b[0m \u001b[0;32min\u001b[0m \u001b[0mnodelist\u001b[0m\u001b[0;34m[\u001b[0m\u001b[0mi\u001b[0m\u001b[0;34m:\u001b[0m\u001b[0;34m]\u001b[0m\u001b[0;34m:\u001b[0m\u001b[0;34m\u001b[0m\u001b[0m\n\u001b[0m\u001b[1;32m      8\u001b[0m             \u001b[0;32mif\u001b[0m\u001b[0;34m(\u001b[0m\u001b[0mnodes_connected\u001b[0m\u001b[0;34m(\u001b[0m\u001b[0mn\u001b[0m\u001b[0;34m,\u001b[0m\u001b[0mm\u001b[0m\u001b[0;34m)\u001b[0m\u001b[0;34m)\u001b[0m\u001b[0;34m:\u001b[0m\u001b[0;34m\u001b[0m\u001b[0m\n\u001b[1;32m      9\u001b[0m                 \u001b[0md\u001b[0m \u001b[0;34m=\u001b[0m \u001b[0md\u001b[0m\u001b[0;34m+\u001b[0m\u001b[0;36m1\u001b[0m\u001b[0;34m\u001b[0m\u001b[0m\n",
      "\u001b[0;31mNameError\u001b[0m: name 'i' is not defined"
     ]
    }
   ],
   "source": [
    "def generalisedLaplacianEnergy(G,x):\n",
    "    nodelist = nx.nodes(G)\n",
    "    nsize = len(nodelist)\n",
    "    deg_dict = []\n",
    "    for n in nodelist:\n",
    "        d = 0\n",
    "        for m in nodelist[i:]:\n",
    "            if(nodes_connected(n,m)):\n",
    "                d = d+1\n",
    "            else:\n",
    "                s = nx.shortest_path_length(G, source=n,target=m)\n",
    "                d = d + (s*pow(x,(s-1)))\n",
    "        deg_dict[n] = d\n",
    "    return deg_dict\n",
    "\n",
    "G = nx.Graph()\n",
    "edge_list = [(1,2),(2,3),(2,5),(3,4),(4,5)]\n",
    "G.add_edges_from(edge_list)\n",
    "generalisedLaplacianEnergy(G, 0.4)"
   ]
  },
  {
   "cell_type": "code",
   "execution_count": 7,
   "metadata": {
    "collapsed": true
   },
   "outputs": [],
   "source": [
    "def generalisedLaplacianMatrix(G,x):\n",
    "    nodelist = nx.nodes(G)\n",
    "    nsize = len(nodelist)\n",
    "    mp = np.zeros(shape=(nsize,nsize))\n",
    "    i = 1\n",
    "    for n in nodelist:\n",
    "        c = 0\n",
    "        for m in nodelist[i:]:\n",
    "            if(nodes_connected(n,m)):\n",
    "                mp[n-1,m-1]= mp[m-1,n-1]= -1\n",
    "            else:\n",
    "                s = nx.shortest_path_length(G, source=n,target=m)\n",
    "                mp[n-1,m-1]= mp[m-1,n-1]= -(s*pow(x,(s-1)))\n",
    "        i = i+1\n",
    "        mp[n-1,n-1]= np.sum(mp[n-1]*-1)\n",
    "    return mp"
   ]
  },
  {
   "cell_type": "code",
   "execution_count": null,
   "metadata": {
    "collapsed": true
   },
   "outputs": [],
   "source": []
  },
  {
   "cell_type": "code",
   "execution_count": 15,
   "metadata": {},
   "outputs": [
    {
     "name": "stdout",
     "output_type": "stream",
     "text": [
      "[[ 0.    1.    0.8   0.48  0.8 ]\n",
      " [ 1.    0.    1.    0.8   1.  ]\n",
      " [ 0.8   1.    0.    1.    0.8 ]\n",
      " [ 0.48  0.8   1.    0.    1.  ]\n",
      " [ 0.8   1.    0.8   1.    0.  ]]\n"
     ]
    }
   ],
   "source": [
    "G = nx.Graph()\n",
    "edge_list = [(1,2),(2,3),(2,5),(3,4),(4,5)]\n",
    "G.add_edges_from(edge_list)\n",
    "m = generalisedAdjMatrix(G,0.4)\n",
    "print(m)"
   ]
  },
  {
   "cell_type": "code",
   "execution_count": 18,
   "metadata": {},
   "outputs": [
    {
     "name": "stdout",
     "output_type": "stream",
     "text": [
      "[[ 3.08 -1.   -0.8  -0.48 -0.8 ]\n",
      " [-1.    3.8  -1.   -0.8  -1.  ]\n",
      " [-0.8  -1.    3.6  -1.   -0.8 ]\n",
      " [-0.48 -0.8  -1.    3.28 -1.  ]\n",
      " [-0.8  -1.   -0.8  -1.    3.6 ]]\n"
     ]
    }
   ],
   "source": [
    "mm = generalisedLaplacianMatrix(G,0.4)\n",
    "print(mm)"
   ]
  },
  {
   "cell_type": "code",
   "execution_count": 33,
   "metadata": {},
   "outputs": [
    {
     "data": {
      "text/plain": [
       "array([ 2.37987812+0.j, -1.92022087+0.j,  1.00000000+0.j,  0.29136689+0.j,\n",
       "       -1.00000000+0.j, -0.75102414+0.j])"
      ]
     },
     "execution_count": 33,
     "metadata": {},
     "output_type": "execute_result"
    }
   ],
   "source": [
    "import networkx as nx\n",
    "\n",
    "G = nx.Graph()\n",
    "edge_list = [(1,2),(1,3),(2,3),(3,4),(3,5),(5,6)]\n",
    "G.add_edges_from(edge_list)\n",
    "nx.adjacency_spectrum(G)"
   ]
  },
  {
   "cell_type": "code",
   "execution_count": 34,
   "metadata": {},
   "outputs": [
    {
     "data": {
      "text/plain": [
       "(array([ 3.23280781,  0.45984847, -0.28980582, -1.37020707, -1.        ,\n",
       "        -1.03264339]),\n",
       " array([[ -4.16550127e-01,  -3.51458940e-01,  -3.75449329e-01,\n",
       "           1.95209902e-01,   7.07106781e-01,   1.54575224e-01],\n",
       "        [ -4.16550127e-01,  -3.51458940e-01,  -3.75449329e-01,\n",
       "           1.95209902e-01,  -7.07106781e-01,   1.54575224e-01],\n",
       "        [ -5.33637587e-01,  -7.98098345e-02,   1.49760709e-01,\n",
       "          -7.85334234e-01,  -7.36658424e-16,  -2.63975730e-01],\n",
       "        [ -3.55637922e-01,  -1.45133840e-01,   8.15793747e-01,\n",
       "           3.11022393e-01,   4.23717381e-16,   3.00338928e-01],\n",
       "        [ -4.15513395e-01,   4.91272091e-01,  -2.96240944e-02,\n",
       "           4.37645838e-01,   1.60524704e-16,  -6.27366627e-01],\n",
       "        [ -2.62817799e-01,   6.95824344e-01,  -1.71027215e-01,\n",
       "          -1.36994598e-01,   1.52824412e-16,   6.31456616e-01]]))"
      ]
     },
     "execution_count": 34,
     "metadata": {},
     "output_type": "execute_result"
    }
   ],
   "source": [
    "import numpy.linalg as nl\n",
    "\n",
    "M = generalisedAdjMatrix(G,0.23)\n",
    "nl.linalg.eig(M)"
   ]
  },
  {
   "cell_type": "code",
   "execution_count": 17,
   "metadata": {},
   "outputs": [
    {
     "data": {
      "text/plain": [
       "array([  1.11022302e-16,   1.00000000e+00,   1.00000000e+00,\n",
       "         4.00000000e+00])"
      ]
     },
     "execution_count": 17,
     "metadata": {},
     "output_type": "execute_result"
    }
   ],
   "source": [
    "import networkx as nx\n",
    "\n",
    "G = nx.Graph()\n",
    "edge_list = [(1,2),(1,3),(1,4)]\n",
    "G.add_edges_from(edge_list)\n",
    "nx.laplacian_spectrum(G)"
   ]
  },
  {
   "cell_type": "code",
   "execution_count": 20,
   "metadata": {},
   "outputs": [
    {
     "data": {
      "text/plain": [
       "(array([  4.00000000e+00,   1.11022302e-16,   2.86000000e+00,\n",
       "          2.86000000e+00]),\n",
       " array([[  8.66025404e-01,  -5.00000000e-01,  -8.95709721e-17,\n",
       "           2.17241517e-17],\n",
       "        [ -2.88675135e-01,  -5.00000000e-01,   8.16496581e-01,\n",
       "          -1.98029509e-01],\n",
       "        [ -2.88675135e-01,  -5.00000000e-01,  -4.08248290e-01,\n",
       "          -5.86979586e-01],\n",
       "        [ -2.88675135e-01,  -5.00000000e-01,  -4.08248290e-01,\n",
       "           7.85009095e-01]]))"
      ]
     },
     "execution_count": 20,
     "metadata": {},
     "output_type": "execute_result"
    }
   ],
   "source": [
    "import numpy.linalg as nl\n",
    "\n",
    "M = generalisedLaplacianMatrix(G,0.31)\n",
    "nl.linalg.eig(M)"
   ]
  },
  {
   "cell_type": "code",
   "execution_count": null,
   "metadata": {
    "collapsed": true
   },
   "outputs": [],
   "source": []
  }
 ],
 "metadata": {
  "kernelspec": {
   "display_name": "Python 3",
   "language": "python",
   "name": "python3"
  },
  "language_info": {
   "codemirror_mode": {
    "name": "ipython",
    "version": 3
   },
   "file_extension": ".py",
   "mimetype": "text/x-python",
   "name": "python",
   "nbconvert_exporter": "python",
   "pygments_lexer": "ipython3",
   "version": "3.4.3"
  }
 },
 "nbformat": 4,
 "nbformat_minor": 1
}
