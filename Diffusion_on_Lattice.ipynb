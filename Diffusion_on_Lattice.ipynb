{
 "cells": [
  {
   "cell_type": "code",
   "execution_count": 18,
   "metadata": {},
   "outputs": [],
   "source": [
    "import numpy as np\n",
    "\n",
    "N = 20 #The number of pixels along a dimension of the image\n",
    "A = np.zeros(shape=(N,N))#The image\n",
    "Adj = np.zeros(shape=(N * N, N * N))#The adjacency matrix\n",
    "\n",
    "#Use 8 neighbors, and fill in the adjacency matrix\n",
    "dx = [-1, 0, 1, -1, 1, -1, 0, 1]\n",
    "dy = [-1, -1, -1, 0, 0, 1, 1, 1]\n",
    "for x in range(1,N+1):\n",
    "    for y in range(1,N+1):\n",
    "        index = (x - 1) * N + y\n",
    "        for ne in range(1,len(dx)):\n",
    "            newx = x + dx[ne]\n",
    "            newy = y + dy[ne]\n",
    "            if newx > 0 and newx <= N and newy > 0 and newy <= N:\n",
    "                index2 = (newx - 1) * N + newy\n",
    "                Adj[index-1][index2-1] = 1\n",
    "                "
   ]
  },
  {
   "cell_type": "code",
   "execution_count": 23,
   "metadata": {},
   "outputs": [
    {
     "ename": "SyntaxError",
     "evalue": "invalid syntax (<ipython-input-23-e6823fdb1ac1>, line 9)",
     "output_type": "error",
     "traceback": [
      "\u001b[0;36m  File \u001b[0;32m\"<ipython-input-23-e6823fdb1ac1>\"\u001b[0;36m, line \u001b[0;32m9\u001b[0m\n\u001b[0;31m    C0(2:5, 2:5) = 5;\u001b[0m\n\u001b[0m        ^\u001b[0m\n\u001b[0;31mSyntaxError\u001b[0m\u001b[0;31m:\u001b[0m invalid syntax\n"
     ]
    }
   ],
   "source": [
    "#BELOW IS THE KEY CODE THAT COMPUTES THE SOLUTION TO THE DIFFERENTIAL EQUATION\n",
    "Deg = diag(sum(Adj, 2));#Compute the degree matrix\n",
    "L = Deg - Adj; #Compute the laplacian matrix in terms of the degree and adjacency matrices\n",
    "[V, D] = eig(L); #Compute the eigenvalues/vectors of the laplacian matrix\n",
    "D = diag(D);\n",
    "\n",
    "#Initial condition (place a few large positive values around andmake everything else zero)\n",
    "C0 = zeros(N, N);\n",
    "C0(2:5, 2:5) = 5;\n",
    "C0(10:15, 10:15) = 10;\n",
    "C0(2:5, 8:13) = 7;\n",
    "C0 = C0(:);"
   ]
  },
  {
   "cell_type": "code",
   "execution_count": null,
   "metadata": {
    "collapsed": true
   },
   "outputs": [],
   "source": []
  }
 ],
 "metadata": {
  "kernelspec": {
   "display_name": "Python 3",
   "language": "python",
   "name": "python3"
  },
  "language_info": {
   "codemirror_mode": {
    "name": "ipython",
    "version": 3
   },
   "file_extension": ".py",
   "mimetype": "text/x-python",
   "name": "python",
   "nbconvert_exporter": "python",
   "pygments_lexer": "ipython3",
   "version": "3.4.3"
  }
 },
 "nbformat": 4,
 "nbformat_minor": 2
}
