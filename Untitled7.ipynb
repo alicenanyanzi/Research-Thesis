{
 "cells": [
  {
   "cell_type": "code",
   "execution_count": 1,
   "metadata": {},
   "outputs": [],
   "source": [
    "import networkx as nx\n",
    "import numpy as np\n",
    "\n",
    "def laplacecentrality(G):\n",
    "    def laplacianenergy(G):\n",
    "        d_deg = (G.degree()).values()\n",
    "        deg_sqr = np.sum([deg ** 2 for deg in d_deg])\n",
    "        deg_sum = 2*len(G.edges())\n",
    "        Lap_energy = deg_sqr + deg_sum\n",
    "        return Lap_energy\n",
    "    \n",
    "    def new_nodelist(nodes,i):                           # new list of nodes without a specified node\n",
    "        nodes.remove(i)\n",
    "        return(nodes)\n",
    "\n",
    "    lap_dict ={}                                        # empty dictionary\n",
    "    for n in G.nodes():\n",
    "        H = G.subgraph(new_nodelist(G.nodes(),n))       # subgraph without node n\n",
    "        lap_centrality = (laplacianenergy(G) -laplacianenergy(H))/laplacianenergy(G)  # compute laplacian centrality\n",
    "        lap_dict[n]=lap_centrality                                                       # append to dictionary\n",
    "    return(lap_dict)\n",
    "    \n"
   ]
  },
  {
   "cell_type": "code",
   "execution_count": 2,
   "metadata": {},
   "outputs": [
    {
     "data": {
      "text/plain": [
       "{1: 0.5,\n",
       " 2: 0.33333333333333331,\n",
       " 3: 0.33333333333333331,\n",
       " 4: 0.5,\n",
       " 5: 0.375,\n",
       " 6: 0.375}"
      ]
     },
     "execution_count": 2,
     "metadata": {},
     "output_type": "execute_result"
    }
   ],
   "source": [
    "G = nx.Graph()\n",
    "G.add_nodes_from([1,2,3,4,5,6])\n",
    "edelist = [(1,2),(1,5),(1,6), (2,3),(3,4),(4,5),(4,6)]\n",
    "G.add_edges_from(edelist)\n",
    "laplacecentrality(G)"
   ]
  },
  {
   "cell_type": "code",
   "execution_count": 26,
   "metadata": {},
   "outputs": [
    {
     "data": {
      "text/plain": [
       "{1: 0.093023255813953487,\n",
       " 2: 0.32558139534883723,\n",
       " 3: 0.20930232558139536,\n",
       " 4: 0.32558139534883723,\n",
       " 5: 0.093023255813953487,\n",
       " 6: 0.13953488372093023,\n",
       " 7: 0.62790697674418605,\n",
       " 8: 0.32558139534883723,\n",
       " 9: 0.2558139534883721,\n",
       " 10: 0.093023255813953487}"
      ]
     },
     "execution_count": 26,
     "metadata": {},
     "output_type": "execute_result"
    }
   ],
   "source": [
    "G = nx.Graph()\n",
    "G.add_nodes_from([1,2,3,4,5,6,7,8,9,10])\n",
    "edelist = [(1,2),(2,3),(3,4),(4,5),(2,7),(4,7),(7,6),(7,8),(7,9),(8,9),(8,10)]\n",
    "G.add_edges_from(edelist)\n",
    "laplacecentrality(G)"
   ]
  },
  {
   "cell_type": "code",
   "execution_count": 27,
   "metadata": {},
   "outputs": [
    {
     "data": {
      "text/plain": [
       "4"
      ]
     },
     "execution_count": 27,
     "metadata": {},
     "output_type": "execute_result"
    }
   ],
   "source": [
    "G.remove_node(1)\n",
    "nx.diameter(G, e=None)"
   ]
  },
  {
   "cell_type": "code",
   "execution_count": null,
   "metadata": {
    "collapsed": true
   },
   "outputs": [],
   "source": []
  }
 ],
 "metadata": {
  "kernelspec": {
   "display_name": "Python 3",
   "language": "python",
   "name": "python3"
  },
  "language_info": {
   "codemirror_mode": {
    "name": "ipython",
    "version": 3
   },
   "file_extension": ".py",
   "mimetype": "text/x-python",
   "name": "python",
   "nbconvert_exporter": "python",
   "pygments_lexer": "ipython3",
   "version": "3.4.3"
  }
 },
 "nbformat": 4,
 "nbformat_minor": 2
}
