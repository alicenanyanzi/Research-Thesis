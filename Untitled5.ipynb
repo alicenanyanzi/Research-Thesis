{
 "cells": [
  {
   "cell_type": "code",
   "execution_count": 7,
   "metadata": {},
   "outputs": [
    {
     "name": "stdout",
     "output_type": "stream",
     "text": [
      "Execucao #1\n",
      "[63, 11, 48, 58, 25, 60, 62, 65, 70, 27]\n",
      "Execucao #2\n",
      "[23, 0, 11, 16, 20, 21, 25, 5, 18, 27]\n",
      "Execucao #3\n",
      "[11, 48, 59, 61, 27, 29, 35, 57, 58, 63]\n",
      "Execucao #4\n",
      "[11, 0, 51, 26, 48, 55, 57, 59, 2, 3]\n",
      "Execucao #5\n",
      "[48, 62, 59, 70, 58, 64, 11, 60, 66, 24]\n",
      "Execucao #6\n",
      "[11, 25, 26, 16, 27, 48, 55, 71, 75, 66]\n",
      "Execucao #7\n",
      "[11, 18, 19, 22, 51, 68, 16, 23, 26, 27]\n",
      "Execucao #8\n",
      "[11, 27, 25, 29, 35, 24, 48, 58, 38, 26]\n",
      "Execucao #9\n",
      "[11, 0, 29, 9, 27, 35, 36, 23, 24, 37]\n",
      "Execucao #10\n",
      "[11, 63, 27, 48, 64, 23, 24, 57, 61, 69]\n",
      "Feche a janela de exibicao para encerrar.\n"
     ]
    }
   ],
   "source": [
    "#Random Walk Algorithm\n",
    "\n",
    "import numpy as np\n",
    "import matplotlib.pyplot as plt\n",
    "import networkx as nx\n",
    "import random\n",
    "\n",
    "#Reads the graph from a GML File, named lesmis.gml\n",
    "G = nx.read_gml(\"lesmiserables.gml\")\n",
    "\n",
    "#Start the counter\n",
    "contador = 0\n",
    "\n",
    "#Start execution counter\n",
    "execucoes = 0\n",
    "\n",
    "#Execute 10 times this command sequence\n",
    "while (execucoes<10):\n",
    "    #Choose a random start node\n",
    "    vertexid = random.choice(G.nodes())\n",
    "    #Dictionary that associate nodes with the amount of times it was visited\n",
    "    VisitedVertex = {}\n",
    "\n",
    "    print(\"Execucao #%d\" % (execucoes + 1))\n",
    "    #Execute the random walk with size 10000 (10000 steps)\n",
    "    while (contador <10000): \n",
    "        #Accumulate the amount of times each vertex is visited\n",
    "        if vertexid in VisitedVertex:\n",
    "                VisitedVertex[vertexid] += 1\n",
    "        else:\n",
    "                VisitedVertex[vertexid] = 1\n",
    "        #Visualize the vertex neighborhood\n",
    "        Vertex_Neighbors = G.neighbors(vertexid)\n",
    "        #Choose a vertex from the vertex neighborhood to start the next random walk\n",
    "        vertexid = random.choice(Vertex_Neighbors)\n",
    "        #Iteration counter increment\n",
    "        contador = contador + 1\n",
    "\n",
    "    #Organize the vertex list in most visited decrescent order\n",
    "    mostvisited = sorted(VisitedVertex, key = VisitedVertex.get,reverse = True)\n",
    "    #Separate the top 10 most visited vertex\n",
    "    top_10 = mostvisited[:10]\n",
    "    print(top_10)\n",
    "\n",
    "    #Restart the cycle\n",
    "    execucoes = execucoes + 1\n",
    "    contador = 0\n",
    "\n",
    "print(\"Feche a janela de exibicao para encerrar.\")\n",
    "\n",
    "#Draw graph to a window\n",
    "nx.draw_circular(G)\n",
    "\n",
    "plt.savefig('myfig')\n",
    "plt.show()"
   ]
  },
  {
   "cell_type": "code",
   "execution_count": 9,
   "metadata": {},
   "outputs": [
    {
     "name": "stdout",
     "output_type": "stream",
     "text": [
      "Execucao #1\n",
      "[41, 42, 25, 27, 29, 27, 29, 35, 34, 37, 11, 31, 30, 23, 24, 42, 24, 68, 11, 58]\n",
      "Execucao #2\n",
      "[53, 51, 11, 31, 30, 31, 11, 10, 11, 15, 11, 48, 76, 66, 60, 59, 63, 59, 63, 57]\n",
      "Execucao #3\n",
      "[36, 34, 36, 29, 35, 34, 38, 37, 38, 36, 37, 11, 36, 34, 38, 37, 38, 36, 37, 11]\n",
      "Execucao #4\n",
      "[29, 37, 29, 37, 36, 35, 29, 36, 35, 11, 70, 75, 41, 57, 58, 11, 64, 57, 55, 65]\n",
      "Execucao #5\n",
      "[14, 11, 13, 11, 37, 11, 31, 27, 43, 27, 70, 24, 26, 43, 11, 3, 2, 11, 71, 48]\n",
      "Execucao #6\n",
      "[5, 0, 4, 0, 11, 68, 11, 58, 66, 63, 66, 60, 58, 55, 41, 69, 24, 68, 41, 69]\n",
      "Execucao #7\n",
      "[37, 38, 35, 29, 36, 35, 29, 27, 72, 11, 55, 25, 23, 12, 23, 27, 29, 38, 11, 2]\n",
      "Execucao #8\n",
      "[22, 20, 21, 17, 22, 17, 18, 16, 55, 65, 76, 66, 61, 66, 61, 48, 55, 48, 59, 66]\n",
      "Execucao #9\n",
      "[74, 48, 69, 41, 68, 70, 58, 59, 63, 65, 62, 76, 48, 58, 60, 58, 55, 59, 61, 55]\n",
      "Execucao #10\n",
      "[5, 0, 2, 3, 0, 3, 0, 9, 0, 2, 11, 48, 62, 63, 62, 48, 74, 73, 48, 62]\n"
     ]
    }
   ],
   "source": [
    "#Random Walk Algorithm\n",
    "\n",
    "import numpy as np\n",
    "import matplotlib.pyplot as plt\n",
    "import networkx as nx\n",
    "import random\n",
    "\n",
    "#Reads the graph from a GML File, named lesmis.gml\n",
    "G = nx.read_gml(\"lesmiserables.gml\")\n",
    "\n",
    "#Start the counter\n",
    "contador = 0\n",
    "\n",
    "#Start execution counter\n",
    "execucoes = 0\n",
    "\n",
    "#Execute 10 times this command sequence\n",
    "while (execucoes<10):\n",
    "    #Dictionary that associate nodes with the amount of times it was visited\n",
    "    VisitedVertex = []\n",
    "    #Choose a random start node\n",
    "    vertexid = random.choice(G.nodes())\n",
    "   \n",
    "    print(\"Execucao #%d\" % (execucoes + 1))\n",
    "    #Execute the random walk with size 10000 (10000 steps)\n",
    "    while (contador <20): \n",
    "        VisitedVertex.append(vertexid)\n",
    "        #Visualize the vertex neighborhood\n",
    "        Vertex_Neighbors = G.neighbors(vertexid)\n",
    "        #Choose a vertex from the vertex neighborhood to start the next random walk\n",
    "        vertexid = random.choice(Vertex_Neighbors)\n",
    "        #Iteration counter increment\n",
    "        contador = contador + 1\n",
    "\n",
    "    print(VisitedVertex)\n",
    "\n",
    "    #Restart the cycle\n",
    "    execucoes = execucoes + 1\n",
    "    contador = 0\n"
   ]
  },
  {
   "cell_type": "code",
   "execution_count": 12,
   "metadata": {},
   "outputs": [
    {
     "ename": "ImportError",
     "evalue": "No module named SimPy",
     "output_type": "error",
     "traceback": [
      "\u001b[0;31m---------------------------------------------------------------------------\u001b[0m",
      "\u001b[0;31mImportError\u001b[0m                               Traceback (most recent call last)",
      "\u001b[0;32m<ipython-input-12-b3591f57d3b5>\u001b[0m in \u001b[0;36m<module>\u001b[0;34m()\u001b[0m\n\u001b[0;32m----> 1\u001b[0;31m \u001b[0;32mimport\u001b[0m \u001b[0mSimPy\u001b[0m\u001b[0;34m\u001b[0m\u001b[0m\n\u001b[0m",
      "\u001b[0;31mImportError\u001b[0m: No module named SimPy"
     ]
    }
   ],
   "source": [
    "import SimPy"
   ]
  },
  {
   "cell_type": "code",
   "execution_count": 13,
   "metadata": {},
   "outputs": [
    {
     "data": {
      "text/plain": [
       "[1, 2, 3, 4, 5, 6]"
      ]
     },
     "execution_count": 13,
     "metadata": {},
     "output_type": "execute_result"
    }
   ],
   "source": [
    "list=[1,2,3]\n",
    "list2 = [4,5,6]\n",
    "list + list2"
   ]
  },
  {
   "cell_type": "code",
   "execution_count": null,
   "metadata": {
    "collapsed": true
   },
   "outputs": [],
   "source": []
  }
 ],
 "metadata": {
  "kernelspec": {
   "display_name": "Python 2",
   "language": "python",
   "name": "python2"
  },
  "language_info": {
   "codemirror_mode": {
    "name": "ipython",
    "version": 2
   },
   "file_extension": ".py",
   "mimetype": "text/x-python",
   "name": "python",
   "nbconvert_exporter": "python",
   "pygments_lexer": "ipython2",
   "version": "2.7.6"
  }
 },
 "nbformat": 4,
 "nbformat_minor": 2
}
