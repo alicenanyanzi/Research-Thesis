{
 "cells": [
  {
   "cell_type": "code",
   "execution_count": 4,
   "metadata": {},
   "outputs": [
    {
     "data": {
      "text/plain": [
       "(array([-1.,  3., -1., -1.]),\n",
       " matrix([[-0.8660254 ,  0.5       ,  0.21699376,  0.        ],\n",
       "         [ 0.28867513,  0.5       , -0.86278187,  0.        ],\n",
       "         [ 0.28867513,  0.5       ,  0.32289406, -0.70710678],\n",
       "         [ 0.28867513,  0.5       ,  0.32289406,  0.70710678]]))"
      ]
     },
     "execution_count": 4,
     "metadata": {},
     "output_type": "execute_result"
    }
   ],
   "source": [
    "import numpy as np\n",
    "import numpy.linalg as lg\n",
    "\n",
    "a = np.matrix([[0,1,1,1],[1,0,1,1],[1,1,0,1],[1,1,1,0]])\n",
    "lg.eig(a)"
   ]
  },
  {
   "cell_type": "code",
   "execution_count": 6,
   "metadata": {},
   "outputs": [
    {
     "data": {
      "text/plain": [
       "(array([ 2.02751491,  0.18404301, -0.90751491, -1.30404301]),\n",
       " matrix([[ 0.41838182,  0.63074632,  0.57004969, -0.31962335],\n",
       "         [ 0.57004969,  0.31962335, -0.41838182,  0.63074632],\n",
       "         [ 0.57004969, -0.31962335, -0.41838182, -0.63074632],\n",
       "         [ 0.41838182, -0.63074632,  0.57004969,  0.31962335]]))"
      ]
     },
     "execution_count": 6,
     "metadata": {},
     "output_type": "execute_result"
    }
   ],
   "source": [
    "a = np.matrix([[0,1,0.4,0.12],[1,0,1,0.4],[0.4,1,0,1],[0.12,0.4,1,0]])\n",
    "lg.eig(a)"
   ]
  },
  {
   "cell_type": "code",
   "execution_count": 7,
   "metadata": {},
   "outputs": [
    {
     "data": {
      "text/plain": [
       "(array([-1.61803399, -0.61803399,  1.61803399,  0.61803399]),\n",
       " matrix([[ 0.37174803,  0.60150096, -0.37174803, -0.60150096],\n",
       "         [-0.60150096, -0.37174803, -0.60150096, -0.37174803],\n",
       "         [ 0.60150096, -0.37174803, -0.60150096,  0.37174803],\n",
       "         [-0.37174803,  0.60150096, -0.37174803,  0.60150096]]))"
      ]
     },
     "execution_count": 7,
     "metadata": {},
     "output_type": "execute_result"
    }
   ],
   "source": [
    "a = np.matrix([[0,1,0,0],[1,0,1,0],[0,1,0,1],[0,0,1,0]])\n",
    "lg.eig(a)"
   ]
  },
  {
   "cell_type": "code",
   "execution_count": null,
   "metadata": {
    "collapsed": true
   },
   "outputs": [],
   "source": []
  }
 ],
 "metadata": {
  "kernelspec": {
   "display_name": "Python 3",
   "language": "python",
   "name": "python3"
  },
  "language_info": {
   "codemirror_mode": {
    "name": "ipython",
    "version": 3
   },
   "file_extension": ".py",
   "mimetype": "text/x-python",
   "name": "python",
   "nbconvert_exporter": "python",
   "pygments_lexer": "ipython3",
   "version": "3.4.3"
  }
 },
 "nbformat": 4,
 "nbformat_minor": 2
}
