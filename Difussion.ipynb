{
 "cells": [
  {
   "cell_type": "code",
   "execution_count": 1,
   "metadata": {
    "collapsed": true
   },
   "outputs": [],
   "source": [
    "import networkx as nx\n",
    "\n",
    "G=nx.path_graph(4)\n",
    "nx.write_gexf(G, \"test.gexf\")"
   ]
  },
  {
   "cell_type": "code",
   "execution_count": 6,
   "metadata": {},
   "outputs": [
    {
     "ename": "AttributeError",
     "evalue": "'Graph' object has no attribute 'graphattributes'",
     "output_type": "error",
     "traceback": [
      "\u001b[0;31m---------------------------------------------------------------------------\u001b[0m",
      "\u001b[0;31mAttributeError\u001b[0m                            Traceback (most recent call last)",
      "\u001b[0;32m<ipython-input-6-b770ae9967f8>\u001b[0m in \u001b[0;36m<module>\u001b[0;34m()\u001b[0m\n\u001b[1;32m     15\u001b[0m \u001b[0;34m\u001b[0m\u001b[0m\n\u001b[1;32m     16\u001b[0m \u001b[0mG\u001b[0m\u001b[0;34m.\u001b[0m\u001b[0mgraph\u001b[0m\u001b[0;34m[\u001b[0m\u001b[0;34m'mode'\u001b[0m\u001b[0;34m]\u001b[0m\u001b[0;34m=\u001b[0m\u001b[0;34m[\u001b[0m\u001b[0;34m'dynamic'\u001b[0m\u001b[0;34m]\u001b[0m\u001b[0;34m\u001b[0m\u001b[0m\n\u001b[0;32m---> 17\u001b[0;31m \u001b[0mG\u001b[0m\u001b[0;34m.\u001b[0m\u001b[0mgraphattributes\u001b[0m\u001b[0;34m[\u001b[0m\u001b[0;34m'mode'\u001b[0m\u001b[0;34m]\u001b[0m \u001b[0;34m=\u001b[0m \u001b[0;34m[\u001b[0m\u001b[0;34m'dynamic'\u001b[0m\u001b[0;34m]\u001b[0m\u001b[0;34m\u001b[0m\u001b[0m\n\u001b[0m\u001b[1;32m     18\u001b[0m \u001b[0mnx\u001b[0m\u001b[0;34m.\u001b[0m\u001b[0mset_node_attributes\u001b[0m\u001b[0;34m(\u001b[0m\u001b[0mG\u001b[0m\u001b[0;34m,\u001b[0m\u001b[0;34m'size'\u001b[0m\u001b[0;34m,\u001b[0m \u001b[0mdict\u001b[0m\u001b[0;34m(\u001b[0m\u001b[0mzip\u001b[0m\u001b[0;34m(\u001b[0m\u001b[0mG\u001b[0m\u001b[0;34m.\u001b[0m\u001b[0mnodes\u001b[0m\u001b[0;34m(\u001b[0m\u001b[0;34m)\u001b[0m\u001b[0;34m,\u001b[0m \u001b[0mphi_0\u001b[0m\u001b[0;34m)\u001b[0m\u001b[0;34m)\u001b[0m\u001b[0;34m)\u001b[0m\u001b[0;34m\u001b[0m\u001b[0m\n\u001b[1;32m     19\u001b[0m \u001b[0mnx\u001b[0m\u001b[0;34m.\u001b[0m\u001b[0mwrite_gexf\u001b[0m\u001b[0;34m(\u001b[0m\u001b[0mG\u001b[0m\u001b[0;34m,\u001b[0m \u001b[0;34m\"barabasi.gexf\"\u001b[0m\u001b[0;34m)\u001b[0m\u001b[0;34m\u001b[0m\u001b[0m\n",
      "\u001b[0;31mAttributeError\u001b[0m: 'Graph' object has no attribute 'graphattributes'"
     ]
    }
   ],
   "source": [
    "import networkx as nx\n",
    "import numpy as np\n",
    "from scipy.linalg import expm\n",
    "import matplotlib.pyplot as plt\n",
    "from pylab import *\n",
    "import random\n",
    "\n",
    "n = 100\n",
    "G = nx.barabasi_albert_graph(n, 1, seed=None)\n",
    "a = nx.laplacian_matrix(G).todense()\n",
    "\n",
    "phi_0 = []\n",
    "for l in range(0,100):\n",
    "    phi_0.append(random.randint(0, 10))\n",
    "\n",
    "G.graph['mode']=['dynamic']\n",
    "G.graphattributes['mode'] = ['dynamic']\n",
    "nx.set_node_attributes(G,'size', dict(zip(G.nodes(), phi_0)))\n",
    "nx.write_gexf(G, \"barabasi.gexf\")"
   ]
  },
  {
   "cell_type": "code",
   "execution_count": 18,
   "metadata": {},
   "outputs": [
    {
     "name": "stdout",
     "output_type": "stream",
     "text": [
      "4.54\n"
     ]
    },
    {
     "data": {
      "image/png": "[encoded data removed]",
      "text/plain": [
       "<matplotlib.figure.Figure at 0x7f24eb923550>"
      ]
     },
     "metadata": {},
     "output_type": "display_data"
    }
   ],
   "source": [
    "import networkx as nx\n",
    "import numpy as np\n",
    "from scipy.linalg import expm\n",
    "import matplotlib.pyplot as plt\n",
    "from pylab import *\n",
    "import random\n",
    "\n",
    "n = 100\n",
    "G = nx.barabasi_albert_graph(n, 1, seed=None)\n",
    "a = nx.laplacian_matrix(G).todense()\n",
    "\n",
    "phi_0 = []\n",
    "for l in range(0,100):\n",
    "    phi_0.append(random.randint(0, 10))\n",
    "\n",
    "#nx.set_node_attributes(G,'size', dict(zip(G.nodes(), ran_number)))\n",
    "#nx.write_gexf(G, \"barabasi0.gexf\")\n",
    "#print(phi_0)\n",
    "avg = np.average(phi_0)\n",
    "print(avg) \n",
    "c_list =[]\n",
    "for t in range(1,150):\n",
    "    c = 0\n",
    "    phi_t = np.dot(phi_0, expm(-a*t*0.5))\n",
    "    #lst.append(phi_t)\n",
    "    #nx.set_node_attributes(G,'size', dict(zip(G.nodes(), ran_number)))\n",
    "    #nx.write_gexf(G, \"barabasi\"+ str(t) + \".gexf\")\n",
    "    for n in phi_t:\n",
    "        if(avg-0.1<= n <= avg+0.1):\n",
    "            c= c+1\n",
    "    c_list.append(c)\n",
    "plt.plot(range(1,150),c_list) \n",
    "plt.title(\"Difussion over a network\")\n",
    "plt.xlabel(\"Time\")\n",
    "plt.ylabel(\"Number of nodes with in Equilibrium\")\n",
    "plt.show()"
   ]
  },
  {
   "cell_type": "code",
   "execution_count": 47,
   "metadata": {},
   "outputs": [
    {
     "name": "stdout",
     "output_type": "stream",
     "text": [
      "5.17\n"
     ]
    },
    {
     "data": {
      "image/png": "[encoded data removed]",
      "text/plain": [
       "<matplotlib.figure.Figure at 0x7f2cc19ad8d0>"
      ]
     },
     "metadata": {},
     "output_type": "display_data"
    }
   ],
   "source": [
    "import networkx as nx\n",
    "import numpy as np\n",
    "from scipy.linalg import expm\n",
    "import matplotlib.pyplot as plt\n",
    "from pylab import *\n",
    "import random\n",
    "\n",
    "n = 100\n",
    "G = nx.barabasi_albert_graph(n, 1, seed=None)\n",
    "a = nx.laplacian_matrix(G).todense()\n",
    "\n",
    "phi_0 = []\n",
    "for l in range(0,100):\n",
    "    phi_0.append(random.randint(0, 10))\n",
    "\n",
    "avg = np.average(phi_0)\n",
    "print(avg) \n",
    "c_list =[]\n",
    "for t in range(1,300):\n",
    "    c = 0\n",
    "    phi_t = np.dot(phi_0, expm(-a*t*0.5))\n",
    "    for n in phi_t:\n",
    "        if(n < avg):\n",
    "            c= c+1\n",
    "    c_list.append(c)\n",
    "    \n",
    "plt.plot(range(1,300),c_list) \n",
    "plt.title(\"Difussion over a network\")\n",
    "plt.xlabel(\"Time\")\n",
    "plt.ylabel(\"Number of nodes with in Equilibrium\")\n",
    "plt.show()"
   ]
  },
  {
   "cell_type": "code",
   "execution_count": 48,
   "metadata": {},
   "outputs": [
    {
     "name": "stdout",
     "output_type": "stream",
     "text": [
      "4.85\n"
     ]
    },
    {
     "data": {
      "image/png": "[encoded data removed]",
      "text/plain": [
       "<matplotlib.figure.Figure at 0x7f2cc16daf60>"
      ]
     },
     "metadata": {},
     "output_type": "display_data"
    }
   ],
   "source": [
    "import networkx as nx\n",
    "import numpy as np\n",
    "from scipy.linalg import expm\n",
    "import matplotlib.pyplot as plt\n",
    "from pylab import *\n",
    "import random\n",
    "\n",
    "n = 100\n",
    "G = nx.barabasi_albert_graph(n, 1, seed=None)\n",
    "a = nx.laplacian_matrix(G).todense()\n",
    "\n",
    "phi_0 = []\n",
    "for l in range(0,100):\n",
    "    phi_0.append(random.randint(0, 10))\n",
    "\n",
    "c_list =[]\n",
    "avg = np.average(phi_0)\n",
    "c_list.append(avg)\n",
    "print(avg)\n",
    "\n",
    "for t in range(1,100):\n",
    "    phi_t = np.dot(phi_0, expm(-a*t*0.5))\n",
    "    c_list.append(np.average(phi_t))\n",
    "plt.plot(range(0,100),c_list) \n",
    "plt.title(\"Difussion over a network\")\n",
    "plt.xlabel(\"Time\")\n",
    "plt.ylabel(\"Average quantity for heat\")\n",
    "plt.show()"
   ]
  },
  {
   "cell_type": "code",
   "execution_count": 12,
   "metadata": {
    "collapsed": true
   },
   "outputs": [],
   "source": [
    "import networkx as nx\n",
    "import numpy as np\n",
    "from scipy.linalg import expm\n",
    "import matplotlib.pyplot as plt\n",
    "from pylab import *\n",
    "import random\n",
    "\n",
    "n = 5\n",
    "G = nx.barabasi_albert_graph(n, 2,seed=None)\n",
    "\n",
    "ran_number = []\n",
    "for l in range(0,n):\n",
    "    ran_number.append(random.randint(0, 10))\n",
    "    \n",
    "nx.set_node_attributes(G,'size', dict(zip(G.nodes(), ran_number)))\n",
    "nx.write_gexf(G, \"barabasi5.gexf\")"
   ]
  },
  {
   "cell_type": "code",
   "execution_count": 7,
   "metadata": {
    "collapsed": true
   },
   "outputs": [],
   "source": [
    "G=nx.path_graph(4)\n",
    "nx.write_edgelist(G, \"test.edgelist\")"
   ]
  },
  {
   "cell_type": "code",
   "execution_count": 1,
   "metadata": {
    "collapsed": true
   },
   "outputs": [],
   "source": [
    "import csv\n",
    "import networkx as nx\n",
    "import numpy as np\n",
    "from scipy.linalg import expm\n",
    "import matplotlib.pyplot as plt\n",
    "from pylab import *\n",
    "import random\n",
    "\n",
    "n = 5\n",
    "G = nx.barabasi_albert_graph(n, 2,seed=None)\n",
    "nx.write_edgelist(G,'edgelist2.csv',delimiter=',')\n",
    "a = nx.laplacian_matrix(G).todense()\n",
    "\n",
    "list_phis = []\n",
    "phi_0 = []\n",
    "node_list=[]\n",
    "for l in range(0,n):\n",
    "    phi_0.append(random.randint(0, 10))    \n",
    "    node_list.append(l)\n",
    "\n",
    "list_phis.append(node_list)\n",
    "list_phis.append(phi_0)\n",
    "\n",
    "for t in range(1,50):\n",
    "    phi_t = np.dot(phi_0, expm(-a*t*0.5))\n",
    "    list_phis.append(list(phi_t))\n",
    "\n",
    "#with open(\"output.csv\", \"w\") as f:\n",
    "    #writer = csv.writer(f)\n",
    "    #writer.writerow(range(0,51))\n",
    "    #writer.writerows(zip(*list_phis))"
   ]
  },
  {
   "cell_type": "code",
   "execution_count": 28,
   "metadata": {
    "collapsed": true
   },
   "outputs": [],
   "source": [
    "import csv\n",
    "import networkx as nx\n",
    "import numpy as np\n",
    "from scipy.linalg import expm\n",
    "import matplotlib.pyplot as plt\n",
    "from pylab import *\n",
    "import random\n",
    "\n",
    "n = 50\n",
    "G = nx.barabasi_albert_graph(n, 2,seed=None)\n",
    "nx.write_edgelist(G,'edgelist2.csv',delimiter=',')\n",
    "a = nx.laplacian_matrix(G).todense()\n",
    "\n",
    "list_phis = []\n",
    "phi_0 = []\n",
    "node_list=[]\n",
    "for l in range(0,n):\n",
    "    phi_0.append(random.randint(0, 10))    \n",
    "    node_list.append(l)\n",
    "\n",
    "#list_phis.append(node_list)\n",
    "list_phis.append(phi_0)\n",
    "\n",
    "for t in range(1,15):\n",
    "    phi_t = np.dot(phi_0, expm(-a*t*0.5))\n",
    "    list_phis.append(list(phi_t))\n",
    "\n",
    "alist= list(zip(*list_phis))\n",
    "\n",
    "#print(alist)\n"
   ]
  },
  {
   "cell_type": "code",
   "execution_count": 8,
   "metadata": {},
   "outputs": [
    {
     "name": "stdout",
     "output_type": "stream",
     "text": [
      "(0, 2, 4.6716072748390403, 5.3743923166678726, 5.5992977360554477, 5.6910600110460541, 5.736776811588971, 5.7622894540167326, 5.7772693518297178, 5.7862448380933342, 5.7916641397105888)\n"
     ]
    }
   ],
   "source": [
    "print(alist[0])"
   ]
  },
  {
   "cell_type": "code",
   "execution_count": 34,
   "metadata": {
    "collapsed": true
   },
   "outputs": [],
   "source": [
    "for l in alist:\n",
    "    plt.plot(range(0,15),l)\n",
    "\n",
    "plt.title(\"Difussion over a network\")\n",
    "plt.xlabel(\"Time\")\n",
    "plt.ylabel(\"Quantity of heat at each node\")\n",
    "plt.show()"
   ]
  },
  {
   "cell_type": "code",
   "execution_count": null,
   "metadata": {
    "collapsed": true
   },
   "outputs": [],
   "source": []
  },
  {
   "cell_type": "code",
   "execution_count": 38,
   "metadata": {
    "collapsed": true
   },
   "outputs": [],
   "source": [
    "import networkx as nx\n",
    "import numpy as np\n",
    "\n",
    "def nodes_connected(u, v):\n",
    "    return u in G.neighbors(v)\n",
    "\n",
    "def generalisedLaplacianMatrix(G,x):\n",
    "    nodelist = nx.nodes(G)\n",
    "    nsize = len(nodelist)\n",
    "    mp = np.zeros(shape=(nsize,nsize))\n",
    "    i = 1\n",
    "    for n in nodelist:\n",
    "        c = 0\n",
    "        for m in nodelist[i:]:\n",
    "            if(nodes_connected(n,m)):\n",
    "                mp[n-1,m-1]= mp[m-1,n-1]= -1\n",
    "            else:\n",
    "                s = nx.shortest_path_length(G, source=n,target=m)\n",
    "                mp[n-1,m-1]= mp[m-1,n-1]= -(s*pow(x,(s-1)))\n",
    "        i = i+1\n",
    "        mp[n-1,n-1]= np.sum(mp[n-1]*-1)\n",
    "    return mp"
   ]
  },
  {
   "cell_type": "code",
   "execution_count": 60,
   "metadata": {
    "collapsed": true
   },
   "outputs": [],
   "source": [
    "\n",
    "import csv\n",
    "import networkx as nx\n",
    "import numpy as np\n",
    "from scipy.linalg import expm\n",
    "import matplotlib.pyplot as plt\n",
    "from pylab import *\n",
    "import random\n",
    "\n",
    "n = 50\n",
    "G = nx.barabasi_albert_graph(n, 2,seed=None)\n",
    "a = generalisedLaplacianMatrix(G,0.4)\n",
    "\n",
    "list_phis = []\n",
    "phi_0 = []\n",
    "node_list=[]\n",
    "for l in range(0,n):\n",
    "    phi_0.append(random.randint(0, 10))    \n",
    "    node_list.append(l)\n",
    "\n",
    "#list_phis.append(node_list)\n",
    "list_phis.append(phi_0)\n",
    "\n",
    "for t in range(1,15):\n",
    "    phi_t = np.dot(phi_0, expm(-a*t*0.5))\n",
    "    list_phis.append(list(phi_t))\n",
    "\n",
    "alist= list(zip(*list_phis))\n",
    "for l in alist:\n",
    "    plt.plot(range(0,15),l)\n",
    "\n",
    "plt.title(\"Difussion over a network\")\n",
    "plt.xlabel(\"Time\")\n",
    "plt.ylabel(\"Quantity of heat at each node\")\n",
    "plt.show()"
   ]
  },
  {
   "cell_type": "code",
   "execution_count": 57,
   "metadata": {},
   "outputs": [
    {
     "data": {
      "text/plain": [
       "(5,\n",
       " 4.7000057282148298,\n",
       " 4.7000000001326887,\n",
       " 4.7000000000000295,\n",
       " 4.7000000000000099,\n",
       " 4.6999999999999726,\n",
       " 4.7000000000000481,\n",
       " 4.7000000000000606,\n",
       " 4.7000000000000153,\n",
       " 4.7000000000000668,\n",
       " 4.6999999999999496,\n",
       " 4.7000000000000739,\n",
       " 4.7000000000000952,\n",
       " 4.6999999999999851,\n",
       " 4.7000000000001183)"
      ]
     },
     "execution_count": 57,
     "metadata": {},
     "output_type": "execute_result"
    }
   ],
   "source": [
    "alist[7]"
   ]
  },
  {
   "cell_type": "code",
   "execution_count": null,
   "metadata": {
    "collapsed": true
   },
   "outputs": [],
   "source": []
  }
 ],
 "metadata": {
  "kernelspec": {
   "display_name": "Python 3",
   "language": "python",
   "name": "python3"
  },
  "language_info": {
   "codemirror_mode": {
    "name": "ipython",
    "version": 3
   },
   "file_extension": ".py",
   "mimetype": "text/x-python",
   "name": "python",
   "nbconvert_exporter": "python",
   "pygments_lexer": "ipython3",
   "version": "3.4.3"
  }
 },
 "nbformat": 4,
 "nbformat_minor": 1
}
